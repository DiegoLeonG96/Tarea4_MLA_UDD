{
  "nbformat": 4,
  "nbformat_minor": 0,
  "metadata": {
    "colab": {
      "provenance": [],
      "gpuType": "T4",
      "include_colab_link": true
    },
    "kernelspec": {
      "name": "python3",
      "display_name": "Python 3"
    },
    "language_info": {
      "name": "python"
    },
    "accelerator": "GPU"
  },
  "cells": [
    {
      "cell_type": "markdown",
      "metadata": {
        "id": "view-in-github",
        "colab_type": "text"
      },
      "source": [
        "<a href=\"https://colab.research.google.com/github/DiegoLeonG96/Tarea4_MLA_UDD/blob/main/Tarea4_MLA.ipynb\" target=\"_parent\"><img src=\"https://colab.research.google.com/assets/colab-badge.svg\" alt=\"Open In Colab\"/></a>"
      ]
    },
    {
      "cell_type": "markdown",
      "source": [
        "# Tarea 4 Machine Learning Avanzado\n",
        "\n",
        "Integrantes:\n",
        "- Kurt Castro\n",
        "- Diego León"
      ],
      "metadata": {
        "id": "Q_Wak-2A6oq2"
      }
    },
    {
      "cell_type": "code",
      "source": [
        "import numpy as np\n",
        "import matplotlib.pyplot as plt\n",
        "\n",
        "import torch.nn as nn\n",
        "import torch\n",
        "from torch.utils.data import Dataset, DataLoader\n",
        "from torch.nn.utils.rnn import pad_sequence\n",
        "import math\n",
        "\n",
        "from tokenizers import Tokenizer\n",
        "from tokenizers.models import WordLevel\n",
        "from tokenizers.pre_tokenizers import Whitespace\n",
        "from tokenizers.trainers import WordLevelTrainer\n",
        "\n",
        "from sklearn.model_selection import train_test_split"
      ],
      "metadata": {
        "id": "KJwgV2Ib_VJr"
      },
      "execution_count": null,
      "outputs": []
    },
    {
      "cell_type": "markdown",
      "source": [
        "## Introducción"
      ],
      "metadata": {
        "id": "gw8IzALU7Fwr"
      }
    },
    {
      "cell_type": "markdown",
      "source": [
        "## Metodología"
      ],
      "metadata": {
        "id": "Ul20IXhh7M_d"
      }
    },
    {
      "cell_type": "markdown",
      "source": [
        "## Carga y preparación de datos"
      ],
      "metadata": {
        "id": "mD0Rnu9Q7QlR"
      }
    },
    {
      "cell_type": "markdown",
      "source": [
        "define el device para usar gpu"
      ],
      "metadata": {
        "id": "BaWM0P8U7Uuy"
      }
    },
    {
      "cell_type": "code",
      "source": [
        "device = torch.device('cuda' if torch.cuda.is_available() else 'cpu')"
      ],
      "metadata": {
        "id": "_n4DbuYycz3O"
      },
      "execution_count": null,
      "outputs": []
    },
    {
      "cell_type": "markdown",
      "source": [
        "se cargan las frases inglés y español"
      ],
      "metadata": {
        "id": "5LOaDvLX7YT_"
      }
    },
    {
      "cell_type": "code",
      "execution_count": null,
      "metadata": {
        "id": "tgTOp12n_P82",
        "colab": {
          "base_uri": "https://localhost:8080/"
        },
        "outputId": "da92500e-b75e-4c1e-e224-3db9d4b2646b"
      },
      "outputs": [
        {
          "output_type": "execute_result",
          "data": {
            "text/plain": [
              "141543"
            ]
          },
          "metadata": {},
          "execution_count": 3
        }
      ],
      "source": [
        "file_path = 'spa.txt'\n",
        "\n",
        "with open(file_path, 'r', encoding='utf-8') as file:\n",
        "    lines = file.readlines()\n",
        "\n",
        "source_texts = []\n",
        "target_texts = []\n",
        "for line in lines:\n",
        "    parts = line.strip().split('\\t')\n",
        "\n",
        "    source_texts.append(parts[0])  # Inglés\n",
        "    target_texts.append(parts[1])  # Español\n",
        "len(target_texts)"
      ]
    },
    {
      "cell_type": "markdown",
      "source": [
        "se tokenizan las frases en inglés y español\n",
        "\n",
        "Se fijan cuáles son los tokens especiales:\n",
        "\n",
        "- unk: corresponde al token asignado para \"desconocido\"\n",
        "- pad: token de padding. Alarga cada secuencia rellenando con este token hasta alcanzar el largo de la secuencia más larga presente en el dataset\n",
        "- bos: token \"beginning of sentence\" corresponde al token de inicio de la secuencia\n",
        "- eos: token \"end of sentence\" corresponde al token de fin de la secuencia\n"
      ],
      "metadata": {
        "id": "blwuUt-a7fmU"
      }
    },
    {
      "cell_type": "code",
      "source": [
        "# Crear el tokenizador WordLevel\n",
        "source_tokenizer = Tokenizer(WordLevel(unk_token=\"<unk>\"))\n",
        "source_tokenizer.pre_tokenizer = Whitespace()\n",
        "target_tokenizer = Tokenizer(WordLevel(unk_token=\"<unk>\"))\n",
        "target_tokenizer.pre_tokenizer = Whitespace()\n",
        "\n",
        "# Entrenar el tokenizador\n",
        "source_trainer = WordLevelTrainer(special_tokens=[\"<unk>\", \"<pad>\", \"<bos>\", \"<eos>\"])\n",
        "source_tokenizer.train_from_iterator(source_texts, trainer=source_trainer)\n",
        "\n",
        "target_trainer = WordLevelTrainer(special_tokens=[\"<unk>\", \"<pad>\", \"<bos>\", \"<eos>\"])\n",
        "target_tokenizer.train_from_iterator(target_texts, trainer=target_trainer)"
      ],
      "metadata": {
        "id": "Z-AFp0yNVbCl"
      },
      "execution_count": null,
      "outputs": []
    },
    {
      "cell_type": "markdown",
      "source": [
        "Se obtienen los vocabularios de inglés (source) y español (target). Corresponde a un diccionario donde cada key es un token y cada value es el id asignado"
      ],
      "metadata": {
        "id": "2yXAqkMx8mKC"
      }
    },
    {
      "cell_type": "code",
      "source": [
        "source_vocab = source_tokenizer.get_vocab()\n",
        "target_vocab = target_tokenizer.get_vocab()\n",
        "reversed_tgt_vocab = {v: k for k, v in target_vocab.items()}\n",
        "reversed_src_vocab = {v: k for k, v in source_vocab.items()}"
      ],
      "metadata": {
        "id": "l5Kj51oqOLlM"
      },
      "execution_count": null,
      "outputs": []
    },
    {
      "cell_type": "code",
      "source": [
        "print(len(source_vocab))\n",
        "print(len(target_vocab))"
      ],
      "metadata": {
        "colab": {
          "base_uri": "https://localhost:8080/"
        },
        "id": "JLdvdpYtWt9S",
        "outputId": "4ee4b78b-1b4e-4f03-ae63-80b9179b3a13"
      },
      "execution_count": null,
      "outputs": [
        {
          "output_type": "stream",
          "name": "stdout",
          "text": [
            "15838\n",
            "30000\n"
          ]
        }
      ]
    },
    {
      "cell_type": "code",
      "source": [
        "source_sequences = [source_tokenizer.encode(text).ids for text in source_texts]\n",
        "target_sequences = [target_tokenizer.encode(text).ids for text in target_texts]"
      ],
      "metadata": {
        "id": "XQEp0K5AXQEc"
      },
      "execution_count": null,
      "outputs": []
    },
    {
      "cell_type": "markdown",
      "source": [
        "Se agregan explícitamente los tokens especiales definidos anteriormente. Cada secuencia debe comenzar con 2 (bos) y terminar con 3 (eos)"
      ],
      "metadata": {
        "id": "6SiZckPp83KO"
      }
    },
    {
      "cell_type": "code",
      "source": [
        "def add_special_tokens(sequence, bos_id, eos_id):\n",
        "    \"\"\"\n",
        "    Agrega <bos> (inicio de secuencia) y <eos> (fin de secuencia) a una lista de índices.\n",
        "    \"\"\"\n",
        "    return [bos_id] + sequence + [eos_id]\n",
        "\n",
        "# IDs de los tokens especiales\n",
        "bos_id_src = source_tokenizer.token_to_id(\"<bos>\")\n",
        "eos_id_src = source_tokenizer.token_to_id(\"<eos>\")\n",
        "bos_id_tgt = target_tokenizer.token_to_id(\"<bos>\")\n",
        "eos_id_tgt = target_tokenizer.token_to_id(\"<eos>\")\n",
        "\n",
        "# Aplicar tokens especiales a las secuencias\n",
        "source_sequences = [add_special_tokens(source_tokenizer.encode(text).ids, bos_id_src, eos_id_src) for text in source_texts]\n",
        "target_sequences = [add_special_tokens(target_tokenizer.encode(text).ids, bos_id_tgt, eos_id_tgt) for text in target_texts]\n",
        "\n",
        "# Validar\n",
        "print(\"Secuencia fuente con tokens especiales (primer ejemplo):\", source_sequences[:1])\n",
        "print(\"Secuencia destino con tokens especiales (primer ejemplo):\", target_sequences[:1])"
      ],
      "metadata": {
        "colab": {
          "base_uri": "https://localhost:8080/"
        },
        "id": "r5sicvw5YIYc",
        "outputId": "e984d0b2-43d6-4894-a103-eef9d47a6c31"
      },
      "execution_count": null,
      "outputs": [
        {
          "output_type": "stream",
          "name": "stdout",
          "text": [
            "Secuencia fuente con tokens especiales (primer ejemplo): [[2, 622, 4, 3]]\n",
            "Secuencia destino con tokens especiales (primer ejemplo): [[2, 1354, 4, 3]]\n"
          ]
        }
      ]
    },
    {
      "cell_type": "markdown",
      "source": [
        "Guardar un 20% de las secuencias para validación"
      ],
      "metadata": {
        "id": "KRyawup19xQh"
      }
    },
    {
      "cell_type": "code",
      "source": [
        "src_train_sequences, src_val_sequences, tgt_train_sequences, tgt_val_sequences = train_test_split(\n",
        "    source_sequences, target_sequences, test_size=0.2, random_state=42)"
      ],
      "metadata": {
        "id": "mgppiLpS_Rds"
      },
      "execution_count": null,
      "outputs": []
    },
    {
      "cell_type": "markdown",
      "source": [
        "Definir datasets y dataloaders. Los dataloaders de training y validación corresponden a los iterables que espera el entrenamiento en Pytorch para recorrer el dataset por batches\n",
        "\n",
        "Se agrega una función collate_fn que se encarga de rellenar con el token de padding"
      ],
      "metadata": {
        "id": "6ilZ8GTb-Dtw"
      }
    },
    {
      "cell_type": "code",
      "source": [
        "class TranslationDataset(Dataset):\n",
        "    def __init__(self, source_sequences, target_sequences):\n",
        "        self.source_sequences = source_sequences\n",
        "        self.target_sequences = target_sequences\n",
        "\n",
        "    def __len__(self):\n",
        "        return len(self.source_sequences)\n",
        "\n",
        "    def __getitem__(self, idx):\n",
        "        return self.source_sequences[idx], self.target_sequences[idx]\n",
        "\n",
        "# Definir función de collate para manejar padding\n",
        "def collate_fn(batch):\n",
        "    source_batch, target_batch = zip(*batch)\n",
        "    source_batch = pad_sequence(source_batch, batch_first=True, padding_value=1)\n",
        "    target_batch = pad_sequence(target_batch, batch_first=True, padding_value=1)\n",
        "    return source_batch, target_batch\n",
        "\n",
        "# Convertir los datos en tensores\n",
        "src_train_tensors = [torch.tensor(seq, dtype=torch.long) for seq in src_train_sequences]\n",
        "src_val_tensors = [torch.tensor(seq, dtype=torch.long) for seq in src_val_sequences]\n",
        "tgt_train_tensors = [torch.tensor(seq, dtype=torch.long) for seq in tgt_train_sequences]\n",
        "tgt_val_tensors = [torch.tensor(seq, dtype=torch.long) for seq in tgt_val_sequences]\n",
        "\n",
        "# Crear el dataset\n",
        "train_dataset = TranslationDataset(src_train_tensors, tgt_train_tensors)\n",
        "val_dataset = TranslationDataset(src_val_tensors, tgt_val_tensors)\n",
        "\n",
        "# Crear el DataLoader\n",
        "batch_size = 64\n",
        "train_dataloader = DataLoader(train_dataset, batch_size=batch_size, shuffle=True, collate_fn=lambda batch: collate_fn(batch))\n",
        "val_dataloader = DataLoader(val_dataset, batch_size=batch_size, shuffle=True, collate_fn=lambda batch: collate_fn(batch))"
      ],
      "metadata": {
        "id": "Zo056QX0b2J9"
      },
      "execution_count": null,
      "outputs": []
    },
    {
      "cell_type": "markdown",
      "source": [
        "## Entrenamiento y evaluación de modelos de traducción"
      ],
      "metadata": {
        "id": "Y1LYLtic9j7i"
      }
    },
    {
      "cell_type": "markdown",
      "source": [
        "### Modelo con atención simple 1\n",
        "\n",
        "Se define un primer modelo Seq2SeqWithAttention, el cual tiene un mecanismo \"suave\" de atención, donde se asignan los pesos, puntajes y el vector de contexto\n",
        "\n",
        "El modelo cuenta con estructura Encoder-Decoder con capas LSTM, además de un embedding el cuál codifica las secuencias de entrada en una representación intermedia"
      ],
      "metadata": {
        "id": "aY-Bnw4PIsZ4"
      }
    },
    {
      "cell_type": "code",
      "source": [
        "class EmbeddingLayer(nn.Module):\n",
        "    def __init__(self, vocab_size, embedding_dim):\n",
        "        super(EmbeddingLayer, self).__init__()\n",
        "        self.embedding = nn.Embedding(vocab_size, embedding_dim, padding_idx=1)\n",
        "\n",
        "    def forward(self, x):\n",
        "        return self.embedding(x)\n",
        "\n",
        "class Encoder(nn.Module):\n",
        "    def __init__(self, embedding_dim, lstm_units):\n",
        "        super(Encoder, self).__init__()\n",
        "        self.lstm = nn.LSTM(embedding_dim, lstm_units, bidirectional=True, batch_first=True)\n",
        "\n",
        "    def forward(self, x):\n",
        "        output, (hidden, cell) = self.lstm(x)\n",
        "        hidden = torch.cat((hidden[0], hidden[1]), dim=1).unsqueeze(0)\n",
        "        cell = torch.cat((cell[0], cell[1]), dim=1).unsqueeze(0)\n",
        "        return output, hidden, cell\n",
        "\n",
        "class Decoder(nn.Module):\n",
        "    def __init__(self, embedding_dim, lstm_units):\n",
        "        super(Decoder, self).__init__()\n",
        "        self.lstm = nn.LSTM(embedding_dim, lstm_units * 2, batch_first=True)\n",
        "\n",
        "    def forward(self, x, hidden, cell):\n",
        "        output, (hidden, cell) = self.lstm(x, (hidden, cell))\n",
        "        return output, hidden, cell\n",
        "\n",
        "class Attention(nn.Module):\n",
        "    def __init__(self, lstm_units):\n",
        "        super(Attention, self).__init__()\n",
        "        self.attn = nn.Linear(lstm_units * 4, lstm_units * 2)\n",
        "        self.v = nn.Linear(lstm_units * 2, 1, bias=False)\n",
        "\n",
        "    def forward(self, decoder_output, encoder_outputs):\n",
        "\n",
        "        seq_len_tgt = decoder_output.size(1)\n",
        "        seq_len_src = encoder_outputs.size(1)\n",
        "\n",
        "        decoder_expanded = decoder_output.unsqueeze(2).repeat(1, 1, seq_len_src, 1)\n",
        "        encoder_expanded = encoder_outputs.unsqueeze(1).repeat(1, seq_len_tgt, 1, 1)\n",
        "\n",
        "        combined = torch.cat((decoder_expanded, encoder_expanded), dim=-1)\n",
        "\n",
        "        scores = self.v(torch.tanh(self.attn(combined))).squeeze(-1)\n",
        "        attention_weights = torch.softmax(scores, dim=-1)\n",
        "\n",
        "        context_vector = torch.bmm(attention_weights, encoder_outputs)\n",
        "        return context_vector\n",
        "\n",
        "class Seq2SeqWithAttention(nn.Module):\n",
        "    def __init__(self, vocab_size, embedding_dim, lstm_units):\n",
        "        super(Seq2SeqWithAttention, self).__init__()\n",
        "        self.embedding = EmbeddingLayer(vocab_size, embedding_dim)\n",
        "        self.encoder = Encoder(embedding_dim, lstm_units)\n",
        "        self.decoder = Decoder(embedding_dim, lstm_units)\n",
        "        self.attention = Attention(lstm_units)\n",
        "        self.fc = nn.Linear(lstm_units * 4, vocab_size)\n",
        "\n",
        "    def forward(self, encoder_input, decoder_input):\n",
        "        encoder_embedded = self.embedding(encoder_input)\n",
        "        decoder_embedded = self.embedding(decoder_input)\n",
        "\n",
        "        encoder_outputs, hidden, cell = self.encoder(encoder_embedded)\n",
        "        decoder_outputs, _, _ = self.decoder(decoder_embedded, hidden, cell)\n",
        "\n",
        "        context_vector = self.attention(decoder_outputs, encoder_outputs)\n",
        "\n",
        "        combined = torch.cat((decoder_outputs, context_vector), dim=-1)\n",
        "        output = self.fc(combined)\n",
        "        return output"
      ],
      "metadata": {
        "id": "pGR8tqPtIvD3"
      },
      "execution_count": null,
      "outputs": []
    },
    {
      "cell_type": "markdown",
      "source": [
        "definición de hiperparámetros"
      ],
      "metadata": {
        "id": "RHkl3qEs_KNN"
      }
    },
    {
      "cell_type": "code",
      "source": [
        "# hiperparametros\n",
        "src_vocab_size = len(source_vocab)\n",
        "tgt_vocab_size = len(target_vocab)\n",
        "vocab_size = tgt_vocab_size\n",
        "embedding_dim = 64\n",
        "lstm_units = 128\n",
        "\n",
        "simple_model = Seq2SeqWithAttention(vocab_size, embedding_dim, lstm_units).to(device)"
      ],
      "metadata": {
        "id": "lPifB3WaTtBQ"
      },
      "execution_count": null,
      "outputs": []
    },
    {
      "cell_type": "markdown",
      "source": [
        "Entrenamiento del modelo"
      ],
      "metadata": {
        "id": "9GpW7pRc_OlK"
      }
    },
    {
      "cell_type": "code",
      "source": [
        "criterion = nn.CrossEntropyLoss(ignore_index=1)  # Ignorar el token <pad>\n",
        "optimizer = torch.optim.Adam(simple_model.parameters(), lr=1e-3)\n",
        "\n",
        "epochs = 5\n",
        "\n",
        "train_losses = []\n",
        "val_losses = []\n",
        "\n",
        "for epoch in range(epochs):\n",
        "    train_epoch_loss = 0\n",
        "    val_epoch_loss = 0\n",
        "\n",
        "    # Modo entrenamiento\n",
        "    simple_model.train()\n",
        "    for data in train_dataloader:\n",
        "        src_data, tgt_data = data\n",
        "        src_data = src_data.to(device)\n",
        "        tgt_data = tgt_data.to(device)\n",
        "\n",
        "        # Máscaras de padding\n",
        "        src_key_padding_mask = (src_data == 1)\n",
        "        tgt_key_padding_mask = (tgt_data[:, :-1] == 1)\n",
        "\n",
        "        optimizer.zero_grad()\n",
        "        output = simple_model(\n",
        "            src_data,\n",
        "            tgt_data[:, :-1],\n",
        "        )\n",
        "\n",
        "        loss = criterion(output.contiguous().view(-1, vocab_size), tgt_data[:, 1:].contiguous().view(-1))\n",
        "        loss.backward()\n",
        "        optimizer.step()\n",
        "\n",
        "        train_epoch_loss += loss.item() / len(train_dataloader)\n",
        "\n",
        "    # Modo evaluación\n",
        "    simple_model.eval()\n",
        "    with torch.no_grad():\n",
        "        for data in val_dataloader:\n",
        "            src_data, tgt_data = data\n",
        "            src_data = src_data.to(device)\n",
        "            tgt_data = tgt_data.to(device)\n",
        "\n",
        "            # Máscaras de padding\n",
        "            src_key_padding_mask = (src_data == 1)\n",
        "            tgt_key_padding_mask = (tgt_data[:, :-1] == 1)\n",
        "\n",
        "            output = simple_model(\n",
        "                src_data,\n",
        "                tgt_data[:, :-1],\n",
        "            )\n",
        "\n",
        "            loss = criterion(output.contiguous().view(-1, vocab_size), tgt_data[:, 1:].contiguous().view(-1))\n",
        "            val_epoch_loss += loss.item() / len(val_dataloader)\n",
        "\n",
        "    train_losses.append(train_epoch_loss)\n",
        "    val_losses.append(val_epoch_loss)\n",
        "    print(f\"Epoch {epoch + 1}/{epochs}, Train Loss: {train_epoch_loss:.4f}, Validation Loss: {val_epoch_loss:.4f}\")\n",
        "\n",
        "plt.figure()\n",
        "plt.plot(range(1, epochs + 1), train_losses, label='Train')\n",
        "plt.plot(range(1, epochs + 1), val_losses, label='Validation')\n",
        "plt.xlabel(\"Épocas\")\n",
        "plt.ylabel(\"Función de pérdida\")\n",
        "plt.legend()\n",
        "plt.show()\n"
      ],
      "metadata": {
        "id": "G1XL5dH5UIzo",
        "colab": {
          "base_uri": "https://localhost:8080/",
          "height": 538
        },
        "outputId": "44be78ed-6af3-47b0-ad66-f5a7550900e0"
      },
      "execution_count": null,
      "outputs": [
        {
          "output_type": "stream",
          "name": "stdout",
          "text": [
            "Epoch 1/5, Train Loss: 3.4603, Validation Loss: 2.2715\n",
            "Epoch 2/5, Train Loss: 1.7724, Validation Loss: 1.8363\n",
            "Epoch 3/5, Train Loss: 1.2558, Validation Loss: 1.7070\n",
            "Epoch 4/5, Train Loss: 0.9699, Validation Loss: 1.6709\n",
            "Epoch 5/5, Train Loss: 0.7995, Validation Loss: 1.6697\n"
          ]
        },
        {
          "output_type": "display_data",
          "data": {
            "text/plain": [
              "<Figure size 640x480 with 1 Axes>"
            ],
            "image/png": "[encoded data removed]"
          },
          "metadata": {}
        }
      ]
    },
    {
      "cell_type": "markdown",
      "source": [
        "Se define la función de traducción para este modelo, la cual toma una secuencia cualquiera de entrada y va generando token por token en el idioma de salida. En cada iteración el modelo genera \"el siguiente token más probable\".\n",
        "\n",
        "IMPORTANTE: parte de la lógica de esta función es inspirada en la implementación disponible en https://github.com/shubhamprasad0/transformer-from-scratch/tree/main. Sin embargo, se le realizaron ajustes significativos para poder adaptarlo a este contexto."
      ],
      "metadata": {
        "id": "W7qxcL_2_TuM"
      }
    },
    {
      "cell_type": "code",
      "source": [
        "def translate(src, max_seq_len=50):\n",
        "\n",
        "    tgt_tokens = [\"\"]\n",
        "    src_tokens = source_tokenizer.encode(src).ids\n",
        "    src_tokens = add_special_tokens(src_tokens, bos_id_src, eos_id_src)\n",
        "    src_vectors = torch.tensor([src_tokens], device=device)\n",
        "\n",
        "    src_key_padding_mask = (src_vectors == 1)  # Padding es 1\n",
        "\n",
        "    for i in range(max_seq_len): #generar token por token\n",
        "\n",
        "        temp_chain = \" \".join(tgt_tokens).strip()\n",
        "        tgt_tokens_encoded = target_tokenizer.encode(temp_chain).ids\n",
        "        tgt_tokens_encoded = add_special_tokens(tgt_tokens_encoded, bos_id_tgt, eos_id_tgt)\n",
        "        tgt_vectors = torch.tensor([tgt_tokens_encoded], device=device)\n",
        "\n",
        "        tgt_key_padding_mask = (tgt_vectors == 1)\n",
        "\n",
        "        output = simple_model(\n",
        "            src_vectors,\n",
        "            tgt_vectors[:, :-1],\n",
        "        )\n",
        "\n",
        "        idx = torch.argmax(nn.functional.softmax(output, dim=-1)[0, i]).item()\n",
        "\n",
        "        if idx == target_tokenizer.token_to_id(\"<eos>\"):\n",
        "            break\n",
        "        else:\n",
        "            tgt_tokens.append(reversed_tgt_vocab.get(idx, \"<unk>\"))\n",
        "\n",
        "    return \" \".join(tgt_tokens[1:]).strip()\n"
      ],
      "metadata": {
        "id": "L7mPZN1JYZka"
      },
      "execution_count": null,
      "outputs": []
    },
    {
      "cell_type": "markdown",
      "source": [
        "Traducciones"
      ],
      "metadata": {
        "id": "iMbXFvtPAqJQ"
      }
    },
    {
      "cell_type": "code",
      "source": [
        "print(translate(\"English is a extremely complex language, don't you think?\"))\n",
        "print(translate(\"the day is warm and sunny\"))\n",
        "print(translate(\"Hello, nice to meet you.\"))\n",
        "print(translate(\"The cat is cute and lazy\"))\n",
        "print(translate(\"How are you?\"))\n",
        "print(translate(\"Did you sleep well?\"))\n",
        "print(translate(\"Attention is all you need\"))\n",
        "print(translate(\"With Transformers we can solve everything\"))\n",
        "print(translate(\"There is no future without the now, and right now we are learning about the future\"))\n",
        "print(translate(\"That's one small step for a man, one giant leap for mankind\"))"
      ],
      "metadata": {
        "colab": {
          "base_uri": "https://localhost:8080/"
        },
        "id": "5Zl3xxI-ei6v",
        "outputId": "91daf15b-0c7b-4832-bd4e-917540113504"
      },
      "execution_count": null,
      "outputs": [
        {
          "output_type": "stream",
          "name": "stdout",
          "text": [
            "El inglés es un idioma de extremadamente que lengua no \".\n",
            "El día está cálido y más .\n",
            "Hola , te gusto verte .\n",
            "El gato es mona y se puso\n",
            "¿ Cómo estás ?\n",
            "¿ Te has dormido bien ?\n",
            "Mi mochila es todo lo que te da\n",
            "Con las tareas podemos resolver a las elecciones .\n",
            "No hay futuro sin futuro ahora y justo ahora mismo del mundo .\n",
            "Ese es un hombre más inteligente , uno a las siete de la mañana .\n"
          ]
        }
      ]
    },
    {
      "cell_type": "markdown",
      "source": [
        "### Modelo transformer"
      ],
      "metadata": {
        "id": "nPkFmlX5Ip99"
      }
    },
    {
      "cell_type": "markdown",
      "source": [
        "Se define un modelo transformer, el cual contiene un mecanismo de Multi-head attention. Pytorch contiene un módulo en torch.nn.Transformer que encapsula toda la complejidad Encoder-Decoder + Multi-head Attention. Se añaden los embedding de ambos idiomas source y target, los cuales codifican las secuencias entrada a representaciones intermedia en dimensión d_model"
      ],
      "metadata": {
        "id": "vyrifc3rBDH1"
      }
    },
    {
      "cell_type": "code",
      "source": [
        "class CustomTransformer(nn.Module):\n",
        "    def __init__(self, src_vocab_size, tgt_vocab_size, d_model, num_heads, num_layers, d_ff, max_seq_length, dropout):\n",
        "        super(CustomTransformer, self).__init__()\n",
        "        self.src_vocab_size = src_vocab_size\n",
        "        self.tgt_vocab_size = tgt_vocab_size\n",
        "        self.d_model = d_model\n",
        "\n",
        "        self.encoder_embedding = nn.Embedding(src_vocab_size, d_model, padding_idx = 1)\n",
        "        self.decoder_embedding = nn.Embedding(tgt_vocab_size, d_model, padding_idx = 1)\n",
        "        self.positional_encoding = PositionalEncoding(d_model, max_seq_length)\n",
        "\n",
        "        self.transformer = nn.Transform\n",
        "        er(\n",
        "            d_model=d_model,\n",
        "            nhead=num_heads,\n",
        "            num_encoder_layers=num_layers,\n",
        "            num_decoder_layers=num_layers,\n",
        "            dim_feedforward=d_ff,\n",
        "            dropout=dropout,\n",
        "            batch_first=True\n",
        "        )\n",
        "        self.fc = nn.Linear(d_model, tgt_vocab_size)\n",
        "        self.dropout = nn.Dropout(dropout)\n",
        "\n",
        "    def generate_mask(self, src, tgt):\n",
        "        src_mask = (src != 1).unsqueeze(1).unsqueeze(2)\n",
        "        tgt_mask = (tgt != 1).unsqueeze(1).unsqueeze(3)\n",
        "        seq_length = tgt.size(1)\n",
        "        nopeak_mask = torch.triu(torch.ones(seq_length, seq_length), diagonal=1).bool().to(src.device)\n",
        "        tgt_mask = nopeak_mask\n",
        "        return src_mask, tgt_mask\n",
        "\n",
        "    def forward(self, src, tgt, src_key_padding_mask=None, tgt_key_padding_mask=None, tgt_mask=None):\n",
        "        # Embedding + Positional Encoding\n",
        "        src_embedded = self.dropout(self.positional_encoding(self.encoder_embedding(src)))\n",
        "        tgt_embedded = self.dropout(self.positional_encoding(self.decoder_embedding(tgt)))\n",
        "\n",
        "        output = self.transformer(\n",
        "            src_embedded,\n",
        "            tgt_embedded,\n",
        "            src_key_padding_mask=src_key_padding_mask,\n",
        "            tgt_key_padding_mask=tgt_key_padding_mask,\n",
        "            memory_key_padding_mask=src_key_padding_mask,\n",
        "            tgt_mask=tgt_mask\n",
        "        )\n",
        "        return self.fc(output)\n",
        "\n",
        "\n",
        "class PositionalEncoding(nn.Module):\n",
        "    def __init__(self, d_model, max_seq_length):\n",
        "        super(PositionalEncoding, self).__init__()\n",
        "        pe = torch.zeros(max_seq_length, d_model)\n",
        "        position = torch.arange(0, max_seq_length, dtype=torch.float).unsqueeze(1)\n",
        "        div_term = torch.exp(-torch.arange(0, d_model, 2).float() * (math.log(10000.0) / d_model))\n",
        "        pe[:, 0::2] = torch.sin(position * div_term)\n",
        "        pe[:, 1::2] = torch.cos(position * div_term)\n",
        "        self.register_buffer('pe', pe.unsqueeze(0))\n",
        "\n",
        "    def forward(self, x):\n",
        "        return x + self.pe[:, :x.size(1), :]\n"
      ],
      "metadata": {
        "id": "Ka929-4C07nZ"
      },
      "execution_count": null,
      "outputs": []
    },
    {
      "cell_type": "markdown",
      "source": [
        "Definición de hiperparámetros"
      ],
      "metadata": {
        "id": "2zfmElP9B1U-"
      }
    },
    {
      "cell_type": "code",
      "source": [
        "# Hiperparámetros\n",
        "src_vocab_size = len(source_vocab)\n",
        "tgt_vocab_size = len(target_vocab)\n",
        "embed_dim = 32\n",
        "num_heads = 4\n",
        "num_layers = 6\n",
        "ff_dim = 128\n",
        "max_seq_length = 100\n",
        "dropout = 0.1\n",
        "\n",
        "# Crear el modelo\n",
        "model = CustomTransformer(\n",
        "src_vocab_size, tgt_vocab_size, embed_dim, num_heads, num_layers, ff_dim, max_seq_length, dropout\n",
        ").to(device)\n"
      ],
      "metadata": {
        "id": "fvNpMxHNce8Q"
      },
      "execution_count": null,
      "outputs": []
    },
    {
      "cell_type": "markdown",
      "source": [
        "Entrenamiento del modelo"
      ],
      "metadata": {
        "id": "AyvY-yAmB42p"
      }
    },
    {
      "cell_type": "code",
      "source": [
        "criterion = nn.CrossEntropyLoss(ignore_index=1)  # Ignorar <pad>\n",
        "optimizer = torch.optim.Adam(model.parameters(), lr=1e-3)\n",
        "\n",
        "epochs = 30\n",
        "\n",
        "train_losses = []\n",
        "val_losses = []\n",
        "for epoch in range(epochs):\n",
        "\n",
        "    train_epoch_loss = 0\n",
        "    val_epoch_loss = 0\n",
        "\n",
        "    model.train()\n",
        "    for data in train_dataloader:\n",
        "        src_data, tgt_data = data\n",
        "        src_data = src_data.to(device)\n",
        "        tgt_data = tgt_data.to(device)\n",
        "\n",
        "        # Máscaras de padding\n",
        "        src_key_padding_mask = (src_data == 1)\n",
        "        tgt_key_padding_mask = (tgt_data[:, :-1] == 1)\n",
        "\n",
        "        # Máscara causal (seq_length, seq_length)\n",
        "        seq_length = tgt_data[:, :-1].size(1)\n",
        "        tgt_mask = torch.triu(torch.ones(seq_length, seq_length, device=device), diagonal=1).bool()\n",
        "\n",
        "        optimizer.zero_grad()\n",
        "        output = model(\n",
        "            src_data,\n",
        "            tgt_data[:, :-1],\n",
        "            src_key_padding_mask=src_key_padding_mask,\n",
        "            tgt_key_padding_mask=tgt_key_padding_mask,\n",
        "            tgt_mask=tgt_mask\n",
        "        )\n",
        "\n",
        "        loss = criterion(output.contiguous().view(-1, tgt_vocab_size), tgt_data[:, 1:].contiguous().view(-1))\n",
        "        loss.backward()\n",
        "        optimizer.step()\n",
        "\n",
        "        train_epoch_loss += loss.item()/len(train_dataloader)\n",
        "\n",
        "\n",
        "    model.eval()\n",
        "    with torch.no_grad():\n",
        "      for data in val_dataloader:\n",
        "          src_data, tgt_data = data\n",
        "          src_data = src_data.to(device)\n",
        "          tgt_data = tgt_data.to(device)\n",
        "\n",
        "          # Máscaras de padding\n",
        "          src_key_padding_mask = (src_data == 1)\n",
        "          tgt_key_padding_mask = (tgt_data[:, :-1] == 1)\n",
        "\n",
        "          # Máscara causal (seq_length, seq_length)\n",
        "          seq_length = tgt_data[:, :-1].size(1)\n",
        "          tgt_mask = torch.triu(torch.ones(seq_length, seq_length, device=device), diagonal=1).bool()\n",
        "\n",
        "          output = model(\n",
        "              src_data,\n",
        "              tgt_data[:, :-1],\n",
        "              src_key_padding_mask=src_key_padding_mask,\n",
        "              tgt_key_padding_mask=tgt_key_padding_mask,\n",
        "              tgt_mask=tgt_mask\n",
        "          )\n",
        "\n",
        "          loss = criterion(output.contiguous().view(-1, tgt_vocab_size), tgt_data[:, 1:].contiguous().view(-1))\n",
        "\n",
        "          val_epoch_loss += loss.item()/len(val_dataloader)\n",
        "\n",
        "    train_losses.append(train_epoch_loss)\n",
        "    val_losses.append(val_epoch_loss)\n",
        "    print(f\"Epoch {epoch + 1}/{epochs}, Train Loss: {train_epoch_loss:.4f}, Validation Loss: {val_epoch_loss:.4f}\")\n",
        "\n",
        "plt.figure()\n",
        "plt.plot(range(1, epochs+1), train_losses, label = 'Train')\n",
        "plt.plot(range(1, epochs+1), val_losses, label = 'Validation')\n",
        "plt.xlabel(\"Épocas\")\n",
        "plt.ylabel(\"Función de pérdida\")\n",
        "plt.legend()"
      ],
      "metadata": {
        "colab": {
          "base_uri": "https://localhost:8080/",
          "height": 989
        },
        "id": "3sSZnRh0OGaX",
        "outputId": "3c2c34af-ab36-4b47-f9f0-c7e739f9310c"
      },
      "execution_count": null,
      "outputs": [
        {
          "output_type": "stream",
          "name": "stdout",
          "text": [
            "Epoch 1/30, Train Loss: 5.0458, Validation Loss: 4.2695\n",
            "Epoch 2/30, Train Loss: 4.0661, Validation Loss: 3.7203\n",
            "Epoch 3/30, Train Loss: 3.6061, Validation Loss: 3.3256\n",
            "Epoch 4/30, Train Loss: 3.2371, Validation Loss: 2.9888\n",
            "Epoch 5/30, Train Loss: 2.9316, Validation Loss: 2.7231\n",
            "Epoch 6/30, Train Loss: 2.6843, Validation Loss: 2.5362\n",
            "Epoch 7/30, Train Loss: 2.4867, Validation Loss: 2.3915\n",
            "Epoch 8/30, Train Loss: 2.3335, Validation Loss: 2.2997\n",
            "Epoch 9/30, Train Loss: 2.2053, Validation Loss: 2.2239\n",
            "Epoch 10/30, Train Loss: 2.1001, Validation Loss: 2.1573\n",
            "Epoch 11/30, Train Loss: 2.0110, Validation Loss: 2.1101\n",
            "Epoch 12/30, Train Loss: 1.9330, Validation Loss: 2.0714\n",
            "Epoch 13/30, Train Loss: 1.8657, Validation Loss: 2.0312\n",
            "Epoch 14/30, Train Loss: 1.8073, Validation Loss: 2.0103\n",
            "Epoch 15/30, Train Loss: 1.7544, Validation Loss: 1.9983\n",
            "Epoch 16/30, Train Loss: 1.7081, Validation Loss: 1.9696\n",
            "Epoch 17/30, Train Loss: 1.6653, Validation Loss: 1.9502\n",
            "Epoch 18/30, Train Loss: 1.6292, Validation Loss: 1.9280\n",
            "Epoch 19/30, Train Loss: 1.5920, Validation Loss: 1.9145\n",
            "Epoch 20/30, Train Loss: 1.5615, Validation Loss: 1.8955\n",
            "Epoch 21/30, Train Loss: 1.5313, Validation Loss: 1.8808\n",
            "Epoch 22/30, Train Loss: 1.5056, Validation Loss: 1.8882\n",
            "Epoch 23/30, Train Loss: 1.4796, Validation Loss: 1.8681\n",
            "Epoch 24/30, Train Loss: 1.4560, Validation Loss: 1.8622\n",
            "Epoch 25/30, Train Loss: 1.4355, Validation Loss: 1.8554\n",
            "Epoch 26/30, Train Loss: 1.4149, Validation Loss: 1.8325\n",
            "Epoch 27/30, Train Loss: 1.3966, Validation Loss: 1.8424\n",
            "Epoch 28/30, Train Loss: 1.3776, Validation Loss: 1.8246\n",
            "Epoch 29/30, Train Loss: 1.3597, Validation Loss: 1.8215\n",
            "Epoch 30/30, Train Loss: 1.3442, Validation Loss: 1.8089\n"
          ]
        },
        {
          "output_type": "execute_result",
          "data": {
            "text/plain": [
              "<matplotlib.legend.Legend at 0x7e25acd3f460>"
            ]
          },
          "metadata": {},
          "execution_count": 24
        },
        {
          "output_type": "display_data",
          "data": {
            "text/plain": [
              "<Figure size 640x480 with 1 Axes>"
            ],
            "image/png": "[encoded data removed]"
          },
          "metadata": {}
        }
      ]
    },
    {
      "cell_type": "markdown",
      "source": [
        "Se define al igual que los modelos anteriores la función de traducción"
      ],
      "metadata": {
        "id": "D6ldj8XDB8ei"
      }
    },
    {
      "cell_type": "code",
      "source": [
        "def translate(src, max_seq_len=50):\n",
        "    tgt_tokens = [\"\"]\n",
        "    src_vectors = [add_special_tokens(source_tokenizer.encode(src).ids, bos_id_src, eos_id_src)]\n",
        "    src_vectors = torch.tensor(src_vectors).to(device)\n",
        "\n",
        "    src_key_padding_mask = (src_vectors == 1)  # Padding es 1\n",
        "\n",
        "    for i in range(max_seq_len): # generar token por token\n",
        "\n",
        "        temp_chain = \" \".join(tgt_tokens).strip()\n",
        "        tgt_vectors = [add_special_tokens(target_tokenizer.encode(temp_chain).ids, bos_id_tgt, eos_id_tgt)]\n",
        "        tgt_vectors = torch.tensor(tgt_vectors).to(device)\n",
        "\n",
        "        seq_length = tgt_vectors.size(1)\n",
        "        tgt_mask = torch.triu(torch.ones(seq_length, seq_length, device=device), diagonal=1).bool()\n",
        "\n",
        "        tgt_key_padding_mask = (tgt_vectors == 1)\n",
        "\n",
        "        with torch.no_grad():\n",
        "          output = model(\n",
        "              src_vectors,\n",
        "              tgt_vectors,\n",
        "              src_key_padding_mask=src_key_padding_mask,\n",
        "              tgt_key_padding_mask=tgt_key_padding_mask,\n",
        "              tgt_mask=tgt_mask\n",
        "          )\n",
        "\n",
        "          # Obtener el índice del token con la mayor probabilidad\n",
        "          idx = torch.argmax(nn.functional.softmax(output, dim=2)[0, i]).item()\n",
        "\n",
        "        if idx == target_tokenizer.token_to_id(\"<eos>\"):  # Detener si encuentra fin de cadena\n",
        "            break\n",
        "        else:\n",
        "            tgt_tokens.append(reversed_tgt_vocab.get(idx))\n",
        "\n",
        "    return \" \".join(tgt_tokens[1:]).strip()\n"
      ],
      "metadata": {
        "id": "v-75jHFQ46Rm"
      },
      "execution_count": null,
      "outputs": []
    },
    {
      "cell_type": "markdown",
      "source": [
        "Traducciones"
      ],
      "metadata": {
        "id": "1UwYCbwUCEIc"
      }
    },
    {
      "cell_type": "code",
      "source": [
        "print(translate(\"English is a extremely complex language, don't you think?\"))\n",
        "print(translate(\"the day is warm and sunny\"))\n",
        "print(translate(\"Hello, nice to meet you.\"))\n",
        "print(translate(\"The cat is cute and lazy\"))\n",
        "print(translate(\"How are you?\"))\n",
        "print(translate(\"Did you sleep well?\"))\n",
        "print(translate(\"Attention is all you need\"))\n",
        "print(translate(\"With Transformers we can solve everything\"))\n",
        "print(translate(\"There is no future without the now, and right now we are learning about the future\"))\n",
        "print(translate(\"That's one small step for a man, one giant leap for mankind\"))"
      ],
      "metadata": {
        "colab": {
          "base_uri": "https://localhost:8080/"
        },
        "id": "rmUZgrEKPhyR",
        "outputId": "972e7d1b-717c-4a23-8d32-0eb08168ab58"
      },
      "execution_count": null,
      "outputs": [
        {
          "output_type": "stream",
          "name": "stdout",
          "text": [
            "El inglés es muy compleja , ¿ verdad ?\n",
            "El día es caluroso y soleado .\n",
            "Hola , te ves bien .\n",
            "El gato es lindo y vago .\n",
            "¿ Cómo son ustedes ?\n",
            "¿ Has dormido bien ?\n",
            "Ten cuidado que necesitas .\n",
            "Asociamos que podemos resolver todo el sonido .\n",
            "Ahora no hay futuro sin la mejor ahora , ahora estamos en el futuro .\n",
            "Ese pequeño es una visa para un hombre de la escena .\n"
          ]
        }
      ]
    }
  ]
}