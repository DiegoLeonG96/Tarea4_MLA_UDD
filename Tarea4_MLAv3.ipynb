{
  "nbformat": 4,
  "nbformat_minor": 0,
  "metadata": {
    "colab": {
      "provenance": [],
      "gpuType": "V5E1",
      "machine_shape": "hm"
    },
    "kernelspec": {
      "name": "python3",
      "display_name": "Python 3"
    },
    "language_info": {
      "name": "python"
    },
    "accelerator": "TPU"
  },
  "cells": [
    {
      "cell_type": "markdown",
      "source": [
        "<div>\n",
        "<img src=\"https://i.ibb.co/v3CvVz9/udd-short.png\" width=\"150\"/>\n",
        "    <br>\n",
        "    <strong>Universidad del Desarrollo</strong><br>\n",
        "    <em>Magíster en Data Science</em><br>\n",
        "    <em>Profesor: Tomás Fontecilla </em><br>\n",
        "\n",
        "</div>\n",
        "\n",
        "# Tarea 4 Machine Learning Avanzado\n",
        "*3 de Enero de 2025*\n",
        "\n",
        "#### Integrantes:\n",
        "`Kurt Castro, Diego León`"
      ],
      "metadata": {
        "id": "RIKDNanV0MUc"
      }
    },
    {
      "cell_type": "markdown",
      "source": [
        "## Introducción"
      ],
      "metadata": {
        "id": "gw8IzALU7Fwr"
      }
    },
    {
      "cell_type": "markdown",
      "source": [
        "En este laboratorio se exploran diferentes arquitecturas de redes neuronales para la traducción automática del inglés al español. Se implementan 2 modelos distintos: un modelo Seq2Seq con atención simple (Bahdanau Attention)  y un modelo Transformer (Multi-Head Attention).\n",
        "\n",
        "El objetivo principal es lograr una familiarización con el concepto de atención en modelos neuronales y cómo este ayuda en la pérdida de información en estructuras encoder-decoder (bottleneck o cuello de botella). Se busca explorar dichos modelos analizando sus hiperparámetros y corroborar experimentalmente la utilidad de Multi-Head Attention en modelos Transformers frente a otros tipo de atención. Más específicamente, se busca analizar diferentes traducciones inglés-español de estos modelos crecientes en dificultad y analizar las debilidades de cada modelo."
      ],
      "metadata": {
        "id": "TsMjMDIkknYo"
      }
    },
    {
      "cell_type": "markdown",
      "source": [
        "## Metodología"
      ],
      "metadata": {
        "id": "Ul20IXhh7M_d"
      }
    },
    {
      "cell_type": "markdown",
      "source": [
        "Se comprenden las siguientes etapas para cada modelo:\n",
        "\n",
        "- **Preparación de datos**:\n",
        "\n",
        "Se carga un dataset de pares de frases en inglés y español desde un archivo de texto.\n",
        "Se realiza un preprocesamiento de las frases, que incluye la conversión a minúsculas, la eliminación de caracteres especiales y la adición de tokens especiales de inicio y fin de secuencia (<bos>, <eos>).\n",
        "Se tokenizan las frases utilizando la librería tokenizers, creando un vocabulario para cada idioma.\n",
        "Se dividen los datos en conjuntos de entrenamiento y validación.\n",
        "\n",
        "- **Definición de modelos**:\n",
        "\n",
        "Se implementan tres modelos de traducción distintos:\n",
        "Un modelo Seq2Seq con atención simple.\n",
        "Un modelo con atención de Bahdanau (implementado en TensorFlow).\n",
        "Un modelo Transformer (implementado en PyTorch).\n",
        "Para cada modelo, se definen sus componentes principales: codificador, decodificador, mecanismo de atención y capas de embedding.\n",
        "\n",
        "- **Entrenamiento de modelos**:\n",
        "\n",
        "Se define una función de pérdida (CrossEntropyLoss) y un optimizador (Adam).\n",
        "Se entrena cada modelo utilizando el conjunto de entrenamiento, iterando por épocas y batches.\n",
        "Se monitorea la pérdida en los conjuntos de entrenamiento y validación para evaluar el progreso del entrenamiento.\n",
        "\n",
        "- **Evaluación y traducción**:\n",
        "\n",
        "Se define una función de traducción que permite generar la traducción de una frase de entrada.\n",
        "Se evalúa la calidad de las traducciones generadas por cada modelo utilizando ejemplos de frases.\n",
        "\n",
        "Adicionalmente, se implementa una función para visualizar los pesos de atención del modelo Bahdanau, lo que permite comprender cómo el modelo está \"prestando atención\" a las diferentes partes de la frase de entrada durante la traducción."
      ],
      "metadata": {
        "id": "xw6o_7FWnKWm"
      }
    },
    {
      "cell_type": "markdown",
      "source": [
        "## Carga de datos e imports"
      ],
      "metadata": {
        "id": "mD0Rnu9Q7QlR"
      }
    },
    {
      "cell_type": "code",
      "source": [
        "import numpy as np\n",
        "import matplotlib.pyplot as plt\n",
        "import matplotlib.ticker as ticker\n",
        "\n",
        "import torch.nn as nn\n",
        "import torch\n",
        "from torch.utils.data import Dataset, DataLoader\n",
        "from torch.nn.utils.rnn import pad_sequence\n",
        "import math\n",
        "\n",
        "from tokenizers import Tokenizer\n",
        "from tokenizers.models import WordLevel\n",
        "from tokenizers.pre_tokenizers import Whitespace\n",
        "from tokenizers.trainers import WordLevelTrainer\n",
        "\n",
        "from sklearn.model_selection import train_test_split\n",
        "\n",
        "from __future__ import absolute_import, division, print_function, unicode_literals\n",
        "\n",
        "import tensorflow as tf\n",
        "\n",
        "import unicodedata\n",
        "import re\n",
        "import os\n",
        "import io\n",
        "import time"
      ],
      "metadata": {
        "id": "KJwgV2Ib_VJr"
      },
      "execution_count": null,
      "outputs": []
    },
    {
      "cell_type": "code",
      "source": [
        "from google.colab import files\n",
        "uploaded = files.upload()"
      ],
      "metadata": {
        "id": "4i8HUI6_ORk8",
        "outputId": "d62f8170-f8f5-4e3c-d2f0-cf6637426a33",
        "colab": {
          "base_uri": "https://localhost:8080/",
          "height": 73
        }
      },
      "execution_count": null,
      "outputs": [
        {
          "output_type": "display_data",
          "data": {
            "text/plain": [
              "<IPython.core.display.HTML object>"
            ],
            "text/html": [
              "\n",
              "     <input type=\"file\" id=\"files-b4f19201-eb64-4021-8d46-9192416d1cc3\" name=\"files[]\" multiple disabled\n",
              "        style=\"border:none\" />\n",
              "     <output id=\"result-b4f19201-eb64-4021-8d46-9192416d1cc3\">\n",
              "      Upload widget is only available when the cell has been executed in the\n",
              "      current browser session. Please rerun this cell to enable.\n",
              "      </output>\n",
              "      <script>// Copyright 2017 Google LLC\n",
              "//\n",
              "// Licensed under the Apache License, Version 2.0 (the \"License\");\n",
              "// you may not use this file except in compliance with the License.\n",
              "// You may obtain a copy of the License at\n",
              "//\n",
              "//      http://www.apache.org/licenses/LICENSE-2.0\n",
              "//\n",
              "// Unless required by applicable law or agreed to in writing, software\n",
              "// distributed under the License is distributed on an \"AS IS\" BASIS,\n",
              "// WITHOUT WARRANTIES OR CONDITIONS OF ANY KIND, either express or implied.\n",
              "// See the License for the specific language governing permissions and\n",
              "// limitations under the License.\n",
              "\n",
              "/**\n",
              " * @fileoverview Helpers for google.colab Python module.\n",
              " */\n",
              "(function(scope) {\n",
              "function span(text, styleAttributes = {}) {\n",
              "  const element = document.createElement('span');\n",
              "  element.textContent = text;\n",
              "  for (const key of Object.keys(styleAttributes)) {\n",
              "    element.style[key] = styleAttributes[key];\n",
              "  }\n",
              "  return element;\n",
              "}\n",
              "\n",
              "// Max number of bytes which will be uploaded at a time.\n",
              "const MAX_PAYLOAD_SIZE = 100 * 1024;\n",
              "\n",
              "function _uploadFiles(inputId, outputId) {\n",
              "  const steps = uploadFilesStep(inputId, outputId);\n",
              "  const outputElement = document.getElementById(outputId);\n",
              "  // Cache steps on the outputElement to make it available for the next call\n",
              "  // to uploadFilesContinue from Python.\n",
              "  outputElement.steps = steps;\n",
              "\n",
              "  return _uploadFilesContinue(outputId);\n",
              "}\n",
              "\n",
              "// This is roughly an async generator (not supported in the browser yet),\n",
              "// where there are multiple asynchronous steps and the Python side is going\n",
              "// to poll for completion of each step.\n",
              "// This uses a Promise to block the python side on completion of each step,\n",
              "// then passes the result of the previous step as the input to the next step.\n",
              "function _uploadFilesContinue(outputId) {\n",
              "  const outputElement = document.getElementById(outputId);\n",
              "  const steps = outputElement.steps;\n",
              "\n",
              "  const next = steps.next(outputElement.lastPromiseValue);\n",
              "  return Promise.resolve(next.value.promise).then((value) => {\n",
              "    // Cache the last promise value to make it available to the next\n",
              "    // step of the generator.\n",
              "    outputElement.lastPromiseValue = value;\n",
              "    return next.value.response;\n",
              "  });\n",
              "}\n",
              "\n",
              "/**\n",
              " * Generator function which is called between each async step of the upload\n",
              " * process.\n",
              " * @param {string} inputId Element ID of the input file picker element.\n",
              " * @param {string} outputId Element ID of the output display.\n",
              " * @return {!Iterable<!Object>} Iterable of next steps.\n",
              " */\n",
              "function* uploadFilesStep(inputId, outputId) {\n",
              "  const inputElement = document.getElementById(inputId);\n",
              "  inputElement.disabled = false;\n",
              "\n",
              "  const outputElement = document.getElementById(outputId);\n",
              "  outputElement.innerHTML = '';\n",
              "\n",
              "  const pickedPromise = new Promise((resolve) => {\n",
              "    inputElement.addEventListener('change', (e) => {\n",
              "      resolve(e.target.files);\n",
              "    });\n",
              "  });\n",
              "\n",
              "  const cancel = document.createElement('button');\n",
              "  inputElement.parentElement.appendChild(cancel);\n",
              "  cancel.textContent = 'Cancel upload';\n",
              "  const cancelPromise = new Promise((resolve) => {\n",
              "    cancel.onclick = () => {\n",
              "      resolve(null);\n",
              "    };\n",
              "  });\n",
              "\n",
              "  // Wait for the user to pick the files.\n",
              "  const files = yield {\n",
              "    promise: Promise.race([pickedPromise, cancelPromise]),\n",
              "    response: {\n",
              "      action: 'starting',\n",
              "    }\n",
              "  };\n",
              "\n",
              "  cancel.remove();\n",
              "\n",
              "  // Disable the input element since further picks are not allowed.\n",
              "  inputElement.disabled = true;\n",
              "\n",
              "  if (!files) {\n",
              "    return {\n",
              "      response: {\n",
              "        action: 'complete',\n",
              "      }\n",
              "    };\n",
              "  }\n",
              "\n",
              "  for (const file of files) {\n",
              "    const li = document.createElement('li');\n",
              "    li.append(span(file.name, {fontWeight: 'bold'}));\n",
              "    li.append(span(\n",
              "        `(${file.type || 'n/a'}) - ${file.size} bytes, ` +\n",
              "        `last modified: ${\n",
              "            file.lastModifiedDate ? file.lastModifiedDate.toLocaleDateString() :\n",
              "                                    'n/a'} - `));\n",
              "    const percent = span('0% done');\n",
              "    li.appendChild(percent);\n",
              "\n",
              "    outputElement.appendChild(li);\n",
              "\n",
              "    const fileDataPromise = new Promise((resolve) => {\n",
              "      const reader = new FileReader();\n",
              "      reader.onload = (e) => {\n",
              "        resolve(e.target.result);\n",
              "      };\n",
              "      reader.readAsArrayBuffer(file);\n",
              "    });\n",
              "    // Wait for the data to be ready.\n",
              "    let fileData = yield {\n",
              "      promise: fileDataPromise,\n",
              "      response: {\n",
              "        action: 'continue',\n",
              "      }\n",
              "    };\n",
              "\n",
              "    // Use a chunked sending to avoid message size limits. See b/62115660.\n",
              "    let position = 0;\n",
              "    do {\n",
              "      const length = Math.min(fileData.byteLength - position, MAX_PAYLOAD_SIZE);\n",
              "      const chunk = new Uint8Array(fileData, position, length);\n",
              "      position += length;\n",
              "\n",
              "      const base64 = btoa(String.fromCharCode.apply(null, chunk));\n",
              "      yield {\n",
              "        response: {\n",
              "          action: 'append',\n",
              "          file: file.name,\n",
              "          data: base64,\n",
              "        },\n",
              "      };\n",
              "\n",
              "      let percentDone = fileData.byteLength === 0 ?\n",
              "          100 :\n",
              "          Math.round((position / fileData.byteLength) * 100);\n",
              "      percent.textContent = `${percentDone}% done`;\n",
              "\n",
              "    } while (position < fileData.byteLength);\n",
              "  }\n",
              "\n",
              "  // All done.\n",
              "  yield {\n",
              "    response: {\n",
              "      action: 'complete',\n",
              "    }\n",
              "  };\n",
              "}\n",
              "\n",
              "scope.google = scope.google || {};\n",
              "scope.google.colab = scope.google.colab || {};\n",
              "scope.google.colab._files = {\n",
              "  _uploadFiles,\n",
              "  _uploadFilesContinue,\n",
              "};\n",
              "})(self);\n",
              "</script> "
            ]
          },
          "metadata": {}
        },
        {
          "output_type": "stream",
          "name": "stdout",
          "text": [
            "Saving spa.txt to spa.txt\n"
          ]
        }
      ]
    },
    {
      "cell_type": "code",
      "source": [
        "path_to_file = \"spa.txt\""
      ],
      "metadata": {
        "id": "c_KEDt8Hw3tf"
      },
      "execution_count": null,
      "outputs": []
    },
    {
      "cell_type": "markdown",
      "source": [
        "## Entrenamiento y evaluación de modelos de traducción"
      ],
      "metadata": {
        "id": "Y1LYLtic9j7i"
      }
    },
    {
      "cell_type": "markdown",
      "source": [
        "### Modelo con Atención Bahdanau"
      ],
      "metadata": {
        "id": "PICZV8ctN1gx"
      }
    },
    {
      "cell_type": "markdown",
      "source": [
        "#### Preparación de datos"
      ],
      "metadata": {
        "id": "EXOMuplPF5k1"
      }
    },
    {
      "cell_type": "markdown",
      "source": [
        "SE implementa un modelo de traducción de secuencia a secuencia (seq2seq)\n",
        "con un mecanismo de atención utilizando TensorFlow. El modelo se entrena para traducir\n",
        "del inglés al español utilizando un conjunto de datos de pares de oraciones."
      ],
      "metadata": {
        "id": "-rUfrFZmOCvB"
      }
    },
    {
      "cell_type": "code",
      "source": [
        "# Función para convertir una cadena unicode a ASCII\n",
        "def unicode_to_ascii(s):\n",
        "    \"\"\"\n",
        "    Convierte una cadena unicode a ASCII eliminando los acentos y otros caracteres especiales.\n",
        "    \"\"\"\n",
        "    return ''.join(c for c in unicodedata.normalize('NFD', s)\n",
        "        if unicodedata.category(c) != 'Mn')\n",
        "\n",
        "# Función para preprocesar una oración\n",
        "def preprocess_sentence(w):\n",
        "    \"\"\"\n",
        "    Preprocesa una oración:\n",
        "    1. Convierte a ASCII\n",
        "    2. Convierte a minúsculas\n",
        "    3. Agrega espacios antes y después de los signos de puntuación\n",
        "    4. Reemplaza múltiples espacios por uno solo\n",
        "    5. Reemplaza todos los caracteres no alfanuméricos y de puntuación con espacios\n",
        "    6. Elimina espacios al inicio y al final\n",
        "    7. Agrega las etiquetas <start> y <end>\n",
        "    \"\"\"\n",
        "    w = unicode_to_ascii(w.lower().strip())\n",
        "    w = re.sub(r\"([?.!,¿])\", r\" \\1 \", w)\n",
        "    w = re.sub(r'[\" \"]+', \" \", w)\n",
        "    w = re.sub(r\"[^a-zA-Z?.!,¿]+\", \" \", w)\n",
        "    w = w.rstrip().strip()\n",
        "    w = '<start> ' + w + ' <end>'\n",
        "    return w\n",
        "\n",
        "# Prueba de la función preprocess_sentence\n",
        "en_sentence = u\"May I borrow this book?\"\n",
        "sp_sentence = u\"¿Puedo tomar prestado este libro?\"\n",
        "print(f\"Oración en inglés preprocesada: {preprocess_sentence(en_sentence)}\")\n",
        "print(f\"Oración en español preprocesada: {preprocess_sentence(sp_sentence).encode('utf-8')}\")\n",
        "\n",
        "# Función para crear el conjunto de datos\n",
        "def create_dataset(path, num_examples):\n",
        "    \"\"\"\n",
        "    Crea un conjunto de datos de pares de oraciones (inglés-español) a partir de un archivo de texto.\n",
        "    1. Lee las líneas del archivo.\n",
        "    2. Preprocesa cada par de oraciones.\n",
        "    3. Separa los pares en listas de oraciones de entrada y salida.\n",
        "    \"\"\"\n",
        "    lines = io.open(path, encoding='UTF-8').read().strip().split('\\n')\n",
        "    word_pairs = [[preprocess_sentence(w) for w in l.split('\\t')]  for l in lines[:num_examples]]\n",
        "    inp_lang, targ_lang = zip(*word_pairs)\n",
        "    return inp_lang, targ_lang\n",
        "\n",
        "# Función para calcular la longitud máxima de un tensor\n",
        "def max_length(tensor):\n",
        "    \"\"\"\n",
        "    Calcula la longitud máxima de una lista de tensores.\n",
        "    \"\"\"\n",
        "    return max(len(t) for t in tensor)\n",
        "\n",
        "# Función para tokenizar y rellenar las secuencias\n",
        "def tokenize(lang):\n",
        "    \"\"\"\n",
        "    Tokeniza las oraciones de una lista y las convierte en secuencias de números.\n",
        "    Luego, rellena las secuencias con ceros para que tengan la misma longitud.\n",
        "    \"\"\"\n",
        "    lang_tokenizer = tf.keras.preprocessing.text.Tokenizer(filters='')\n",
        "    lang_tokenizer.fit_on_texts(lang)\n",
        "    tensor = lang_tokenizer.texts_to_sequences(lang)\n",
        "    tensor = tf.keras.preprocessing.sequence.pad_sequences(tensor, padding='post')\n",
        "    return tensor, lang_tokenizer\n",
        "\n",
        "# Función para cargar el conjunto de datos\n",
        "def load_dataset(path, num_examples=None):\n",
        "    \"\"\"\n",
        "    Carga y preprocesa el conjunto de datos de traducción.\n",
        "    1. Crea el conjunto de datos.\n",
        "    2. Tokeniza las oraciones de entrada y salida.\n",
        "    \"\"\"\n",
        "    inp_lang, targ_lang = create_dataset(path, num_examples)\n",
        "    input_tensor, inp_lang_tokenizer = tokenize(inp_lang)\n",
        "    target_tensor, targ_lang_tokenizer = tokenize(targ_lang)\n",
        "    return input_tensor, target_tensor, inp_lang_tokenizer, targ_lang_tokenizer"
      ],
      "metadata": {
        "colab": {
          "base_uri": "https://localhost:8080/"
        },
        "id": "yPpgSKsyOVyx",
        "outputId": "c12042e6-52dc-4326-e461-dca343bb9314"
      },
      "execution_count": null,
      "outputs": [
        {
          "output_type": "stream",
          "name": "stdout",
          "text": [
            "Oración en inglés preprocesada: <start> may i borrow this book ? <end>\n",
            "Oración en español preprocesada: b'<start> \\xc2\\xbf puedo tomar prestado este libro ? <end>'\n"
          ]
        }
      ]
    },
    {
      "cell_type": "code",
      "source": [
        "# Definir el número de ejemplos a utilizar\n",
        "num_examples = 50000\n",
        "\n",
        "# Cargar el conjunto de datos\n",
        "input_tensor, target_tensor, inp_lang, targ_lang = load_dataset(path_to_file, num_examples)\n",
        "\n",
        "# Calcular la longitud máxima de los tensores de entrada y salida\n",
        "max_length_targ, max_length_inp = max_length(target_tensor), max_length(input_tensor)\n",
        "\n",
        "# Dividir el conjunto de datos en entrenamiento y validación\n",
        "input_tensor_train, input_tensor_val, target_tensor_train, target_tensor_val = train_test_split(input_tensor, target_tensor, test_size=0.2)"
      ],
      "metadata": {
        "id": "G12rnFKMOeuz"
      },
      "execution_count": null,
      "outputs": []
    },
    {
      "cell_type": "markdown",
      "source": [
        "#### Definición de modelos"
      ],
      "metadata": {
        "id": "5e7PEw9uGD3d"
      }
    },
    {
      "cell_type": "code",
      "source": [
        "class Encoder(tf.keras.Model):\n",
        "  \"\"\"\n",
        "  Clase para el Encoder del modelo seq2seq.\n",
        "\n",
        "  El Encoder toma una secuencia de entrada y produce un estado oculto que se utiliza\n",
        "  como entrada para el Decoder.\n",
        "  \"\"\"\n",
        "  def __init__(self, vocab_size, embedding_dim, enc_units, batch_sz):\n",
        "    \"\"\"\n",
        "    Inicializa el Encoder.\n",
        "\n",
        "    Args:\n",
        "      vocab_size: Tamaño del vocabulario de entrada.\n",
        "      embedding_dim: Dimensión del embedding.\n",
        "      enc_units: Número de unidades GRU.\n",
        "      batch_sz: Tamaño del batch.\n",
        "    \"\"\"\n",
        "    super(Encoder, self).__init__()\n",
        "    self.batch_sz = batch_sz\n",
        "    self.enc_units = enc_units\n",
        "    self.embedding = tf.keras.layers.Embedding(vocab_size, embedding_dim)\n",
        "    self.gru = tf.keras.layers.GRU(self.enc_units,\n",
        "                                   return_sequences=True,\n",
        "                                   return_state=True,\n",
        "                                   recurrent_initializer='glorot_uniform')\n",
        "\n",
        "  def call(self, x, hidden):\n",
        "      \"\"\"\n",
        "      Realiza un paso de forward pass del Encoder.\n",
        "\n",
        "      Args:\n",
        "          x: Tensor de entrada (batch_size, sequence_length).\n",
        "          hidden: Estado oculto inicial.\n",
        "\n",
        "      Returns:\n",
        "        output: Salida del encoder (batch_size, sequence_length, enc_units)\n",
        "        state: Estado oculto final (batch_size, enc_units)\n",
        "      \"\"\"\n",
        "      x = self.embedding(x)\n",
        "      output, state = self.gru(x, initial_state = hidden)\n",
        "      return output, state\n",
        "\n",
        "  def initialize_hidden_state(self):\n",
        "      \"\"\"\n",
        "      Inicializa el estado oculto del Encoder.\n",
        "      \"\"\"\n",
        "      return tf.zeros((self.batch_sz, self.enc_units))"
      ],
      "metadata": {
        "id": "9R_NENIGOqDu"
      },
      "execution_count": null,
      "outputs": []
    },
    {
      "cell_type": "code",
      "source": [
        "class BahdanauAttention(tf.keras.layers.Layer):\n",
        "    \"\"\"\n",
        "    Clase para el mecanismo de atención Bahdanau.\n",
        "\n",
        "    Calcula los pesos de atención basados en el estado oculto del Decoder y la salida del Encoder.\n",
        "    \"\"\"\n",
        "    def __init__(self, units):\n",
        "        \"\"\"\n",
        "        Inicializa la capa de atención.\n",
        "\n",
        "        Args:\n",
        "            units: Número de unidades en las capas densas.\n",
        "        \"\"\"\n",
        "        super(BahdanauAttention, self).__init__()\n",
        "        self.W1 = tf.keras.layers.Dense(units)\n",
        "        self.W2 = tf.keras.layers.Dense(units)\n",
        "        self.V = tf.keras.layers.Dense(1)\n",
        "\n",
        "    def call(self, query, values):\n",
        "        \"\"\"\n",
        "        Calcula el vector de contexto y los pesos de atención.\n",
        "\n",
        "        Args:\n",
        "            query: Estado oculto del decoder (batch_size, units).\n",
        "            values: Salida del encoder (batch_size, max_length, enc_units).\n",
        "\n",
        "        Returns:\n",
        "          context_vector: Vector de contexto (batch_size, units).\n",
        "          attention_weights: Pesos de atención (batch_size, max_length, 1).\n",
        "        \"\"\"\n",
        "        hidden_with_time_axis = tf.expand_dims(query, 1)\n",
        "        score = self.V(tf.nn.tanh(\n",
        "            self.W1(values) + self.W2(hidden_with_time_axis)))\n",
        "        attention_weights = tf.nn.softmax(score, axis=1)\n",
        "        context_vector = attention_weights * values\n",
        "        context_vector = tf.reduce_sum(context_vector, axis=1)\n",
        "        return context_vector, attention_weights"
      ],
      "metadata": {
        "id": "oziinsyHOySv"
      },
      "execution_count": null,
      "outputs": []
    },
    {
      "cell_type": "code",
      "source": [
        "class Decoder(tf.keras.Model):\n",
        "    \"\"\"\n",
        "    Clase para el Decoder del modelo seq2seq.\n",
        "\n",
        "    El Decoder toma el estado oculto del Encoder y la salida anterior como entrada,\n",
        "    y genera la siguiente palabra en la secuencia de salida.\n",
        "    \"\"\"\n",
        "    def __init__(self, vocab_size, embedding_dim, dec_units, batch_sz):\n",
        "        \"\"\"\n",
        "        Inicializa el Decoder.\n",
        "\n",
        "        Args:\n",
        "            vocab_size: Tamaño del vocabulario de salida.\n",
        "            embedding_dim: Dimensión del embedding.\n",
        "            dec_units: Número de unidades GRU.\n",
        "            batch_sz: Tamaño del batch.\n",
        "        \"\"\"\n",
        "        super(Decoder, self).__init__()\n",
        "        self.batch_sz = batch_sz\n",
        "        self.dec_units = dec_units\n",
        "        self.embedding = tf.keras.layers.Embedding(vocab_tar_size, embedding_dim)\n",
        "        self.gru = tf.keras.layers.GRU(self.dec_units,\n",
        "                                        return_sequences=True,\n",
        "                                        return_state=True,\n",
        "                                        recurrent_initializer='glorot_uniform')\n",
        "        self.fc = tf.keras.layers.Dense(vocab_size)\n",
        "        self.attention = BahdanauAttention(self.dec_units)\n",
        "\n",
        "    def call(self, x, hidden, enc_output):\n",
        "        \"\"\"\n",
        "        Realiza un paso de forward pass del Decoder.\n",
        "\n",
        "        Args:\n",
        "          x: Tensor de entrada (batch_size, 1).\n",
        "          hidden: Estado oculto del decoder (batch_size, dec_units).\n",
        "          enc_output: Salida del encoder (batch_size, max_length, enc_units).\n",
        "\n",
        "        Returns:\n",
        "          x: Salida del decoder (batch_size, vocab_size)\n",
        "          state: Estado oculto del decoder (batch_size, dec_units)\n",
        "          attention_weights: Pesos de atención (batch_size, max_length, 1).\n",
        "        \"\"\"\n",
        "        context_vector, attention_weights = self.attention(hidden, enc_output)\n",
        "        x = self.embedding(x)\n",
        "        x = tf.concat([tf.expand_dims(context_vector, 1), x], axis=-1)\n",
        "        output, state = self.gru(x)\n",
        "        output = tf.reshape(output, (-1, output.shape[2]))\n",
        "        x = self.fc(output)\n",
        "        return x, state, attention_weights"
      ],
      "metadata": {
        "id": "_63S_QEIO8Rw"
      },
      "execution_count": null,
      "outputs": []
    },
    {
      "cell_type": "markdown",
      "source": [
        "#### Entrenamiento de modelos"
      ],
      "metadata": {
        "id": "c1DHJVf5GIij"
      }
    },
    {
      "cell_type": "code",
      "source": [
        "# Definir parámetros del dataframe\n",
        "BUFFER_SIZE = len(input_tensor_train)\n",
        "BATCH_SIZE = 128\n",
        "steps_per_epoch_train = len(input_tensor_train) // BATCH_SIZE\n",
        "steps_per_epoch_val = len(input_tensor_val) // BATCH_SIZE\n",
        "embedding_dim = 256\n",
        "units = 1024\n",
        "vocab_inp_size = len(inp_lang.word_index) + 1\n",
        "vocab_tar_size = len(targ_lang.word_index) + 1\n",
        "\n",
        "# Crear el dataset de TensorFlow\n",
        "train_dataset = tf.data.Dataset.from_tensor_slices((input_tensor_train, target_tensor_train)).shuffle(BUFFER_SIZE)\n",
        "train_dataset = train_dataset.batch(BATCH_SIZE, drop_remainder=True)\n",
        "\n",
        "val_dataset = tf.data.Dataset.from_tensor_slices((input_tensor_val, target_tensor_val)).shuffle(BUFFER_SIZE)\n",
        "val_dataset = val_dataset.batch(BATCH_SIZE, drop_remainder=True)\n",
        "\n",
        "encoder = Encoder(vocab_inp_size, embedding_dim, units, BATCH_SIZE)\n",
        "attention_layer = BahdanauAttention(10)\n",
        "decoder = Decoder(vocab_tar_size, embedding_dim, units, BATCH_SIZE)\n",
        "\n",
        "# Definir el optimizador\n",
        "optimizer = tf.keras.optimizers.Adam()\n",
        "\n",
        "# Definir la función de pérdida\n",
        "loss_object = tf.keras.losses.SparseCategoricalCrossentropy(\n",
        "    from_logits=True, reduction='none')\n",
        "\n",
        "# Definir el directorio y el prefijo para los checkpoints\n",
        "checkpoint_dir = './training_checkpoints'\n",
        "checkpoint_prefix = os.path.join(checkpoint_dir, \"ckpt\")\n",
        "\n",
        "# Crear el objeto checkpoint\n",
        "checkpoint = tf.train.Checkpoint(optimizer=optimizer,\n",
        "                                 encoder=encoder,\n",
        "                                 decoder=decoder)"
      ],
      "metadata": {
        "id": "HivUbUiZhFGX"
      },
      "execution_count": null,
      "outputs": []
    },
    {
      "cell_type": "code",
      "source": [
        "# Función para calcular la pérdida\n",
        "def loss_function(real, pred):\n",
        "    \"\"\"\n",
        "    Calcula la pérdida para una predicción dada.\n",
        "\n",
        "    Args:\n",
        "      real: Tensor de valores reales (batch_size,).\n",
        "      pred: Tensor de predicciones (batch_size, vocab_size).\n",
        "\n",
        "    Returns:\n",
        "      loss: Pérdida promedio.\n",
        "    \"\"\"\n",
        "    mask = tf.math.logical_not(tf.math.equal(real, 0))\n",
        "    loss_ = loss_object(real, pred)\n",
        "    mask = tf.cast(mask, dtype=loss_.dtype)\n",
        "    loss_ *= mask\n",
        "    return tf.reduce_mean(loss_)"
      ],
      "metadata": {
        "id": "D7cre8fehm3F"
      },
      "execution_count": null,
      "outputs": []
    },
    {
      "cell_type": "code",
      "source": [
        "# Función para realizar un paso de entrenamiento\n",
        "@tf.function\n",
        "def train_step(inp, targ, enc_hidden):\n",
        "    \"\"\"\n",
        "    Realiza un paso de entrenamiento del modelo.\n",
        "\n",
        "    Args:\n",
        "      inp: Tensor de entrada (batch_size, sequence_length).\n",
        "      targ: Tensor de salida (batch_size, sequence_length).\n",
        "      enc_hidden: Estado oculto del encoder (batch_size, enc_units).\n",
        "\n",
        "    Returns:\n",
        "      batch_loss: Pérdida del batch.\n",
        "    \"\"\"\n",
        "    loss = 0\n",
        "    with tf.GradientTape() as tape:\n",
        "        enc_output, enc_hidden = encoder(inp, enc_hidden)\n",
        "        dec_hidden = enc_hidden\n",
        "        dec_input = tf.expand_dims([targ_lang.word_index['<start>']] * BATCH_SIZE, 1)\n",
        "        for t in range(1, targ.shape[1]):\n",
        "            predictions, dec_hidden, _ = decoder(dec_input, dec_hidden, enc_output)\n",
        "            loss += loss_function(targ[:, t], predictions)\n",
        "            dec_input = tf.expand_dims(targ[:, t], 1)\n",
        "    batch_loss = (loss / int(targ.shape[1]))\n",
        "    variables = encoder.trainable_variables + decoder.trainable_variables\n",
        "    gradients = tape.gradient(loss, variables)\n",
        "    optimizer.apply_gradients(zip(gradients, variables))\n",
        "    return batch_loss\n",
        "\n",
        "# Función para realizar un paso de validación\n",
        "@tf.function\n",
        "def validation_step(inp, targ, enc_hidden):\n",
        "    \"\"\"\n",
        "    Realiza un paso de validación del modelo.\n",
        "\n",
        "    Args:\n",
        "      inp: Tensor de entrada (batch_size, sequence_length).\n",
        "      targ: Tensor de salida (batch_size, sequence_length).\n",
        "      enc_hidden: Estado oculto del encoder (batch_size, enc_units).\n",
        "\n",
        "    Returns:\n",
        "      batch_loss: Pérdida del batch.\n",
        "    \"\"\"\n",
        "    loss = 0\n",
        "\n",
        "    enc_output, enc_hidden = encoder(inp, enc_hidden)\n",
        "    dec_hidden = enc_hidden\n",
        "    dec_input = tf.expand_dims([targ_lang.word_index['<start>']] * BATCH_SIZE, 1)\n",
        "    for t in range(1, targ.shape[1]):\n",
        "        predictions, dec_hidden, _ = decoder(dec_input, dec_hidden, enc_output)\n",
        "        loss += loss_function(targ[:, t], predictions)\n",
        "        dec_input = tf.expand_dims(targ[:, t], 1)\n",
        "\n",
        "    batch_loss = (loss / int(targ.shape[1]))\n",
        "    return batch_loss"
      ],
      "metadata": {
        "id": "0UvGfaE5h5cf"
      },
      "execution_count": null,
      "outputs": []
    },
    {
      "cell_type": "markdown",
      "source": [
        "10 épocas base con early stopping"
      ],
      "metadata": {
        "id": "YEETpFdnx4nK"
      }
    },
    {
      "cell_type": "code",
      "source": [
        "# Definir el número de epochs\n",
        "EPOCHS = 10\n",
        "train_losses, val_losses = [], []\n",
        "early_stopping_tol = 2\n",
        "epochs_early_stop = 0\n",
        "curr_early_stop_loss = np.inf\n",
        "\n",
        "# Loop de entrenamiento\n",
        "for epoch in range(EPOCHS):\n",
        "    start = time.time()\n",
        "    enc_hidden = encoder.initialize_hidden_state()\n",
        "    total_loss_train = 0\n",
        "    total_loss_val = 0\n",
        "    for (batch, (inp, targ)) in enumerate(train_dataset.take(steps_per_epoch_train)):\n",
        "        batch_loss = train_step(inp, targ, enc_hidden)\n",
        "        total_loss_train += batch_loss\n",
        "\n",
        "    for (batch, (inp, targ)) in enumerate(val_dataset.take(steps_per_epoch_val)):\n",
        "        batch_loss = validation_step(inp, targ, enc_hidden)\n",
        "        total_loss_val += batch_loss\n",
        "\n",
        "    if (epoch + 1) % 2 == 0:\n",
        "        checkpoint.save(file_prefix=checkpoint_prefix)\n",
        "\n",
        "    train_losses.append(total_loss_train / steps_per_epoch_train)\n",
        "    val_losses.append(total_loss_val / steps_per_epoch_val)\n",
        "\n",
        "    print('Epoch {} Train Loss {:.4f} Validation Loss {:.4f}'.format(epoch + 1,\n",
        "                                        total_loss_train / steps_per_epoch_train,\n",
        "                                        total_loss_val / steps_per_epoch_val\n",
        "                                                                     ))\n",
        "    print('Time taken for 1 epoch {} sec\\n'.format(time.time() - start))\n",
        "\n",
        "    if total_loss_val / steps_per_epoch_val > curr_early_stop_loss:\n",
        "       epochs_early_stop += 1\n",
        "    else:\n",
        "       epochs_early_stop = 0\n",
        "    curr_early_stop_loss = total_loss_val / steps_per_epoch_val\n",
        "\n",
        "    if epochs_early_stop == early_stopping_tol:\n",
        "      break"
      ],
      "metadata": {
        "id": "DksOuobiPMmi",
        "outputId": "410f2ed4-cf08-41d9-9b54-99f2b0060baf",
        "colab": {
          "base_uri": "https://localhost:8080/"
        }
      },
      "execution_count": null,
      "outputs": [
        {
          "output_type": "stream",
          "name": "stdout",
          "text": [
            "Epoch 1 Train Loss 1.8577 Validation Loss 1.5791\n",
            "Time taken for 1 epoch 252.43183588981628 sec\n",
            "\n",
            "Epoch 2 Train Loss 1.4197 Validation Loss 1.3469\n",
            "Time taken for 1 epoch 235.20367884635925 sec\n",
            "\n",
            "Epoch 3 Train Loss 1.1886 Validation Loss 1.1869\n",
            "Time taken for 1 epoch 234.55826210975647 sec\n",
            "\n",
            "Epoch 4 Train Loss 0.9370 Validation Loss 0.9564\n",
            "Time taken for 1 epoch 234.45692777633667 sec\n",
            "\n",
            "Epoch 5 Train Loss 0.6648 Validation Loss 0.8140\n",
            "Time taken for 1 epoch 234.49412751197815 sec\n",
            "\n",
            "Epoch 6 Train Loss 0.4708 Validation Loss 0.7587\n",
            "Time taken for 1 epoch 235.1966848373413 sec\n",
            "\n",
            "Epoch 7 Train Loss 0.3430 Validation Loss 0.7399\n",
            "Time taken for 1 epoch 233.6407859325409 sec\n",
            "\n",
            "Epoch 8 Train Loss 0.2606 Validation Loss 0.7362\n",
            "Time taken for 1 epoch 234.78451132774353 sec\n",
            "\n",
            "Epoch 9 Train Loss 0.2027 Validation Loss 0.7341\n",
            "Time taken for 1 epoch 234.68897128105164 sec\n",
            "\n",
            "Epoch 10 Train Loss 0.1635 Validation Loss 0.7437\n",
            "Time taken for 1 epoch 234.3725049495697 sec\n",
            "\n"
          ]
        }
      ]
    },
    {
      "cell_type": "code",
      "source": [
        "plt.figure()\n",
        "plt.plot(range(1, len(train_losses)+1), train_losses, label = 'Train')\n",
        "plt.plot(range(1, len(val_losses)+1), val_losses, label = 'Validation')\n",
        "plt.xlabel(\"Épocas\")\n",
        "plt.ylabel(\"Función de pérdida\")\n",
        "plt.legend()"
      ],
      "metadata": {
        "id": "pLAyeAta56D-",
        "outputId": "7d474329-46aa-4204-8d9e-a1fb3ebe31ab",
        "colab": {
          "base_uri": "https://localhost:8080/",
          "height": 468
        }
      },
      "execution_count": null,
      "outputs": [
        {
          "output_type": "execute_result",
          "data": {
            "text/plain": [
              "<matplotlib.legend.Legend at 0x7902353e9b70>"
            ]
          },
          "metadata": {},
          "execution_count": 21
        },
        {
          "output_type": "display_data",
          "data": {
            "text/plain": [
              "<Figure size 640x480 with 1 Axes>"
            ],
            "image/png": "[encoded data removed]"
          },
          "metadata": {}
        }
      ]
    },
    {
      "cell_type": "markdown",
      "source": [
        "#### Evaluación y traducción"
      ],
      "metadata": {
        "id": "HZy6SGW6GT3S"
      }
    },
    {
      "cell_type": "code",
      "source": [
        "# Función para evaluar una oración\n",
        "def evaluate(sentence):\n",
        "    \"\"\"\n",
        "    Evalua una oración de entrada usando el modelo entrenado.\n",
        "\n",
        "    Args:\n",
        "      sentence: La oración de entrada.\n",
        "\n",
        "    Returns:\n",
        "      result: La oración traducida.\n",
        "      sentence: La oración de entrada preprocesada.\n",
        "      attention_plot: Una matriz de pesos de atención.\n",
        "    \"\"\"\n",
        "    attention_plot = np.zeros((max_length_targ, max_length_inp))\n",
        "    sentence = preprocess_sentence(sentence)\n",
        "    inputs = [inp_lang.word_index[i] for i in sentence.split(' ')]\n",
        "    inputs = tf.keras.preprocessing.sequence.pad_sequences([inputs],\n",
        "                                                            maxlen=max_length_inp,\n",
        "                                                            padding='post')\n",
        "    inputs = tf.convert_to_tensor(inputs)\n",
        "    result = ''\n",
        "    hidden = [tf.zeros((1, units))]\n",
        "    enc_out, enc_hidden = encoder(inputs, hidden)\n",
        "    dec_hidden = enc_hidden\n",
        "    dec_input = tf.expand_dims([targ_lang.word_index['<start>']], 0)\n",
        "    for t in range(max_length_targ):\n",
        "        predictions, dec_hidden, attention_weights = decoder(dec_input,\n",
        "                                                             dec_hidden,\n",
        "                                                             enc_out)\n",
        "        attention_weights = tf.reshape(attention_weights, (-1, ))\n",
        "        attention_plot[t] = attention_weights.numpy()\n",
        "        predicted_id = tf.argmax(predictions[0]).numpy()\n",
        "        result += targ_lang.index_word[predicted_id] + ' '\n",
        "        if targ_lang.index_word[predicted_id] == '<end>':\n",
        "            return result, sentence, attention_plot\n",
        "        dec_input = tf.expand_dims([predicted_id], 0)\n",
        "    return result, sentence, attention_plot\n",
        "\n",
        "# Función para graficar los pesos de atención\n",
        "def plot_attention(attention, sentence, predicted_sentence):\n",
        "    \"\"\"\n",
        "    Grafica los pesos de atención.\n",
        "\n",
        "    Args:\n",
        "      attention: Matriz de pesos de atención.\n",
        "      sentence: Oración de entrada.\n",
        "      predicted_sentence: Oración traducida.\n",
        "    \"\"\"\n",
        "    fig = plt.figure(figsize=(10,10))\n",
        "    ax = fig.add_subplot(1, 1, 1)\n",
        "    ax.matshow(attention, cmap='viridis')\n",
        "    fontdict = {'fontsize': 14}\n",
        "    ax.set_xticklabels([''] + sentence, fontdict=fontdict, rotation=90)\n",
        "    ax.set_yticklabels([''] + predicted_sentence, fontdict=fontdict)\n",
        "    ax.xaxis.set_major_locator(ticker.MultipleLocator(1))\n",
        "    ax.yaxis.set_major_locator(ticker.MultipleLocator(1))\n",
        "    plt.show()\n",
        "\n",
        "# Función para traducir y mostrar la atención\n",
        "def translate(sentence):\n",
        "    \"\"\"\n",
        "    Traduce una oración de entrada y muestra la atención.\n",
        "\n",
        "    Args:\n",
        "      sentence: Oración de entrada.\n",
        "    \"\"\"\n",
        "    result, sentence, attention_plot = evaluate(sentence)\n",
        "    print('Input: %s' % (sentence))\n",
        "    print('Predicted translation: {}'.format(result))\n",
        "    attention_plot = attention_plot[:len(result.split(' ')), :len(sentence.split(' '))]\n",
        "    plot_attention(attention_plot, sentence.split(' '), result.split(' '))\n",
        "\n",
        "# Restaurar el último checkpoint\n",
        "checkpoint.restore(tf.train.latest_checkpoint(checkpoint_dir))"
      ],
      "metadata": {
        "colab": {
          "base_uri": "https://localhost:8080/"
        },
        "id": "h-7q6PM_PSNC",
        "outputId": "206d89d4-f66c-428b-e1db-dd207fe7b24b"
      },
      "execution_count": null,
      "outputs": [
        {
          "output_type": "execute_result",
          "data": {
            "text/plain": [
              "<tensorflow.python.checkpoint.checkpoint.CheckpointLoadStatus at 0x7b6670644940>"
            ]
          },
          "metadata": {},
          "execution_count": 12
        }
      ]
    },
    {
      "cell_type": "code",
      "source": [
        "print(translate(\"English is a extremely complex language, don't you think?\"))\n",
        "print(translate(\"the day is warm and sunny\"))\n",
        "print(translate(\"Hello, nice to meet you.\"))\n",
        "print(translate(\"The cat is cute and lazy\"))\n",
        "print(translate(\"How are you?\"))\n",
        "print(translate(\"Did you sleep well?\"))\n",
        "print(translate(\"Attention is all you need\"))\n",
        "print(translate(\"There is no future without the now, and right now we are learning about the future\"))"
      ],
      "metadata": {
        "colab": {
          "base_uri": "https://localhost:8080/",
          "height": 1000
        },
        "id": "dkH5Dvyg1LDv",
        "outputId": "11c89b77-b133-481e-a987-948cb64f6c46"
      },
      "execution_count": null,
      "outputs": [
        {
          "output_type": "stream",
          "name": "stdout",
          "text": [
            "Input: <start> english is a extremely complex language , don t you think ? <end>\n",
            "Predicted translation: es un viaje tan grande ? <end> \n"
          ]
        },
        {
          "output_type": "stream",
          "name": "stderr",
          "text": [
            "<ipython-input-12-5f8e2217099d>:53: UserWarning: set_ticklabels() should only be used with a fixed number of ticks, i.e. after set_ticks() or using a FixedLocator.\n",
            "  ax.set_xticklabels([''] + sentence, fontdict=fontdict, rotation=90)\n",
            "<ipython-input-12-5f8e2217099d>:54: UserWarning: set_ticklabels() should only be used with a fixed number of ticks, i.e. after set_ticks() or using a FixedLocator.\n",
            "  ax.set_yticklabels([''] + predicted_sentence, fontdict=fontdict)\n"
          ]
        },
        {
          "output_type": "display_data",
          "data": {
            "text/plain": [
              "<Figure size 1000x1000 with 1 Axes>"
            ],
            "image/png": "[encoded data removed]"
          },
          "metadata": {}
        },
        {
          "output_type": "stream",
          "name": "stdout",
          "text": [
            "None\n",
            "Input: <start> the day is warm and sunny <end>\n",
            "Predicted translation: el dia esta caliente y un traidor . <end> \n"
          ]
        },
        {
          "output_type": "stream",
          "name": "stderr",
          "text": [
            "<ipython-input-12-5f8e2217099d>:53: UserWarning: set_ticklabels() should only be used with a fixed number of ticks, i.e. after set_ticks() or using a FixedLocator.\n",
            "  ax.set_xticklabels([''] + sentence, fontdict=fontdict, rotation=90)\n",
            "<ipython-input-12-5f8e2217099d>:54: UserWarning: set_ticklabels() should only be used with a fixed number of ticks, i.e. after set_ticks() or using a FixedLocator.\n",
            "  ax.set_yticklabels([''] + predicted_sentence, fontdict=fontdict)\n"
          ]
        },
        {
          "output_type": "display_data",
          "data": {
            "text/plain": [
              "<Figure size 1000x1000 with 1 Axes>"
            ],
            "image/png": "[encoded data removed]"
          },
          "metadata": {}
        },
        {
          "output_type": "stream",
          "name": "stdout",
          "text": [
            "None\n",
            "Input: <start> hello , nice to meet you . <end>\n",
            "Predicted translation: hola bien de ti . <end> \n"
          ]
        },
        {
          "output_type": "stream",
          "name": "stderr",
          "text": [
            "<ipython-input-12-5f8e2217099d>:53: UserWarning: set_ticklabels() should only be used with a fixed number of ticks, i.e. after set_ticks() or using a FixedLocator.\n",
            "  ax.set_xticklabels([''] + sentence, fontdict=fontdict, rotation=90)\n",
            "<ipython-input-12-5f8e2217099d>:54: UserWarning: set_ticklabels() should only be used with a fixed number of ticks, i.e. after set_ticks() or using a FixedLocator.\n",
            "  ax.set_yticklabels([''] + predicted_sentence, fontdict=fontdict)\n"
          ]
        },
        {
          "output_type": "display_data",
          "data": {
            "text/plain": [
              "<Figure size 1000x1000 with 1 Axes>"
            ],
            "image/png": "[encoded data removed]"
          },
          "metadata": {}
        },
        {
          "output_type": "stream",
          "name": "stdout",
          "text": [
            "None\n",
            "Input: <start> the cat is cute and lazy <end>\n",
            "Predicted translation: el gato es bonito y blanco . <end> \n"
          ]
        },
        {
          "output_type": "stream",
          "name": "stderr",
          "text": [
            "<ipython-input-12-5f8e2217099d>:53: UserWarning: set_ticklabels() should only be used with a fixed number of ticks, i.e. after set_ticks() or using a FixedLocator.\n",
            "  ax.set_xticklabels([''] + sentence, fontdict=fontdict, rotation=90)\n",
            "<ipython-input-12-5f8e2217099d>:54: UserWarning: set_ticklabels() should only be used with a fixed number of ticks, i.e. after set_ticks() or using a FixedLocator.\n",
            "  ax.set_yticklabels([''] + predicted_sentence, fontdict=fontdict)\n"
          ]
        },
        {
          "output_type": "display_data",
          "data": {
            "text/plain": [
              "<Figure size 1000x1000 with 1 Axes>"
            ],
            "image/png": "[encoded data removed]"
          },
          "metadata": {}
        },
        {
          "output_type": "stream",
          "name": "stdout",
          "text": [
            "None\n",
            "Input: <start> how are you ? <end>\n",
            "Predicted translation: ¿ como estas ? <end> \n"
          ]
        },
        {
          "output_type": "stream",
          "name": "stderr",
          "text": [
            "<ipython-input-12-5f8e2217099d>:53: UserWarning: set_ticklabels() should only be used with a fixed number of ticks, i.e. after set_ticks() or using a FixedLocator.\n",
            "  ax.set_xticklabels([''] + sentence, fontdict=fontdict, rotation=90)\n",
            "<ipython-input-12-5f8e2217099d>:54: UserWarning: set_ticklabels() should only be used with a fixed number of ticks, i.e. after set_ticks() or using a FixedLocator.\n",
            "  ax.set_yticklabels([''] + predicted_sentence, fontdict=fontdict)\n"
          ]
        },
        {
          "output_type": "display_data",
          "data": {
            "text/plain": [
              "<Figure size 1000x1000 with 1 Axes>"
            ],
            "image/png": "[encoded data removed]"
          },
          "metadata": {}
        },
        {
          "output_type": "stream",
          "name": "stdout",
          "text": [
            "None\n",
            "Input: <start> did you sleep well ? <end>\n",
            "Predicted translation: ¿ percibiste algun buen ? <end> \n"
          ]
        },
        {
          "output_type": "stream",
          "name": "stderr",
          "text": [
            "<ipython-input-12-5f8e2217099d>:53: UserWarning: set_ticklabels() should only be used with a fixed number of ticks, i.e. after set_ticks() or using a FixedLocator.\n",
            "  ax.set_xticklabels([''] + sentence, fontdict=fontdict, rotation=90)\n",
            "<ipython-input-12-5f8e2217099d>:54: UserWarning: set_ticklabels() should only be used with a fixed number of ticks, i.e. after set_ticks() or using a FixedLocator.\n",
            "  ax.set_yticklabels([''] + predicted_sentence, fontdict=fontdict)\n"
          ]
        },
        {
          "output_type": "display_data",
          "data": {
            "text/plain": [
              "<Figure size 1000x1000 with 1 Axes>"
            ],
            "image/png": "[encoded data removed]"
          },
          "metadata": {}
        },
        {
          "output_type": "stream",
          "name": "stdout",
          "text": [
            "None\n",
            "Input: <start> attention is all you need <end>\n",
            "Predicted translation: la cena , tu necesitas . <end> \n"
          ]
        },
        {
          "output_type": "stream",
          "name": "stderr",
          "text": [
            "<ipython-input-12-5f8e2217099d>:53: UserWarning: set_ticklabels() should only be used with a fixed number of ticks, i.e. after set_ticks() or using a FixedLocator.\n",
            "  ax.set_xticklabels([''] + sentence, fontdict=fontdict, rotation=90)\n",
            "<ipython-input-12-5f8e2217099d>:54: UserWarning: set_ticklabels() should only be used with a fixed number of ticks, i.e. after set_ticks() or using a FixedLocator.\n",
            "  ax.set_yticklabels([''] + predicted_sentence, fontdict=fontdict)\n"
          ]
        },
        {
          "output_type": "display_data",
          "data": {
            "text/plain": [
              "<Figure size 1000x1000 with 1 Axes>"
            ],
            "image/png": "[encoded data removed]"
          },
          "metadata": {}
        },
        {
          "output_type": "stream",
          "name": "stdout",
          "text": [
            "None\n",
            "Input: <start> there is no future without the now , and right now we are learning about the future <end>\n",
            "Predicted translation: ahora , ¿ estamos en el viaje conmigo el viaje conmigo el viaje conmigo el viaje \n"
          ]
        },
        {
          "output_type": "stream",
          "name": "stderr",
          "text": [
            "<ipython-input-12-5f8e2217099d>:53: UserWarning: set_ticklabels() should only be used with a fixed number of ticks, i.e. after set_ticks() or using a FixedLocator.\n",
            "  ax.set_xticklabels([''] + sentence, fontdict=fontdict, rotation=90)\n",
            "<ipython-input-12-5f8e2217099d>:54: UserWarning: set_ticklabels() should only be used with a fixed number of ticks, i.e. after set_ticks() or using a FixedLocator.\n",
            "  ax.set_yticklabels([''] + predicted_sentence, fontdict=fontdict)\n"
          ]
        },
        {
          "output_type": "display_data",
          "data": {
            "text/plain": [
              "<Figure size 1000x1000 with 1 Axes>"
            ],
            "image/png": "[encoded data removed]"
          },
          "metadata": {}
        },
        {
          "output_type": "stream",
          "name": "stdout",
          "text": [
            "None\n"
          ]
        }
      ]
    },
    {
      "cell_type": "markdown",
      "source": [
        "**Modelo con Atención Bahdanau**\n",
        "\n",
        "- **Conclusión**: El modelo con atención Bahdanau, implementado con TensorFlow, muestra una capacidad de traducción \"buena\" con frases cortas, pero comete errores al procesar frases más complejas. Esto se debe a que es necsario modificar aún más la estructura del modelo y realizar ajustes con el entrenamiento."
      ],
      "metadata": {
        "id": "X3t3CqXco9bK"
      }
    },
    {
      "cell_type": "markdown",
      "source": [
        "### Modelo Transformer"
      ],
      "metadata": {
        "id": "nPkFmlX5Ip99"
      }
    },
    {
      "cell_type": "markdown",
      "source": [
        "#### Preparación de datos"
      ],
      "metadata": {
        "id": "h9N6BtgIGp2M"
      }
    },
    {
      "cell_type": "markdown",
      "source": [
        "Define el device para usar gpu"
      ],
      "metadata": {
        "id": "BaWM0P8U7Uuy"
      }
    },
    {
      "cell_type": "code",
      "source": [
        "device = torch.device('cuda' if torch.cuda.is_available() else 'cpu')"
      ],
      "metadata": {
        "id": "_n4DbuYycz3O"
      },
      "execution_count": null,
      "outputs": []
    },
    {
      "cell_type": "markdown",
      "source": [
        "Se cargan las secuencias inglés y español"
      ],
      "metadata": {
        "id": "5LOaDvLX7YT_"
      }
    },
    {
      "cell_type": "code",
      "execution_count": null,
      "metadata": {
        "id": "tgTOp12n_P82",
        "colab": {
          "base_uri": "https://localhost:8080/"
        },
        "outputId": "9ce66c58-548f-48db-aaaf-d7901bb8a1de"
      },
      "outputs": [
        {
          "output_type": "execute_result",
          "data": {
            "text/plain": [
              "141543"
            ]
          },
          "metadata": {},
          "execution_count": 13
        }
      ],
      "source": [
        "with open(path_to_file, 'r', encoding='utf-8') as file:\n",
        "    lines = file.readlines()\n",
        "\n",
        "source_texts = []\n",
        "target_texts = []\n",
        "for line in lines:\n",
        "    parts = line.strip().split('\\t')\n",
        "\n",
        "    source_texts.append(parts[0])  # Inglés\n",
        "    target_texts.append(parts[1])  # Español\n",
        "len(target_texts)"
      ]
    },
    {
      "cell_type": "markdown",
      "source": [
        "Se tokenizan las frases en inglés y español\n",
        "\n",
        "Se fijan cuáles son los tokens especiales:\n",
        "\n",
        "- unk: corresponde al token asignado para \"desconocido\"\n",
        "- pad: token de padding. Alarga cada secuencia rellenando con este token hasta alcanzar el largo de la secuencia más larga presente en el dataset\n",
        "- bos: token \"beginning of sentence\" corresponde al token de inicio de la secuencia\n",
        "- eos: token \"end of sentence\" corresponde al token de fin de la secuencia\n"
      ],
      "metadata": {
        "id": "blwuUt-a7fmU"
      }
    },
    {
      "cell_type": "code",
      "source": [
        "# Crear el tokenizador WordLevel\n",
        "source_tokenizer = Tokenizer(WordLevel(unk_token=\"<unk>\"))\n",
        "source_tokenizer.pre_tokenizer = Whitespace()\n",
        "target_tokenizer = Tokenizer(WordLevel(unk_token=\"<unk>\"))\n",
        "target_tokenizer.pre_tokenizer = Whitespace()\n",
        "\n",
        "# Entrenar el tokenizador\n",
        "source_trainer = WordLevelTrainer(special_tokens=[\"<unk>\", \"<pad>\", \"<bos>\", \"<eos>\"])\n",
        "source_tokenizer.train_from_iterator(source_texts, trainer=source_trainer)\n",
        "\n",
        "target_trainer = WordLevelTrainer(special_tokens=[\"<unk>\", \"<pad>\", \"<bos>\", \"<eos>\"])\n",
        "target_tokenizer.train_from_iterator(target_texts, trainer=target_trainer)"
      ],
      "metadata": {
        "id": "Z-AFp0yNVbCl"
      },
      "execution_count": null,
      "outputs": []
    },
    {
      "cell_type": "markdown",
      "source": [
        "Se obtienen los vocabularios de inglés (source) y español (target). Corresponde a un diccionario donde cada key es un token y cada value es el id asignado"
      ],
      "metadata": {
        "id": "2yXAqkMx8mKC"
      }
    },
    {
      "cell_type": "code",
      "source": [
        "source_vocab = source_tokenizer.get_vocab()\n",
        "target_vocab = target_tokenizer.get_vocab()\n",
        "reversed_tgt_vocab = {v: k for k, v in target_vocab.items()}\n",
        "reversed_src_vocab = {v: k for k, v in source_vocab.items()}"
      ],
      "metadata": {
        "id": "l5Kj51oqOLlM"
      },
      "execution_count": null,
      "outputs": []
    },
    {
      "cell_type": "code",
      "source": [
        "print(len(source_vocab))\n",
        "print(len(target_vocab))"
      ],
      "metadata": {
        "colab": {
          "base_uri": "https://localhost:8080/"
        },
        "id": "JLdvdpYtWt9S",
        "outputId": "85f29839-dc20-4824-e5f7-a549ab125dd0"
      },
      "execution_count": null,
      "outputs": [
        {
          "output_type": "stream",
          "name": "stdout",
          "text": [
            "15838\n",
            "30000\n"
          ]
        }
      ]
    },
    {
      "cell_type": "code",
      "source": [
        "source_sequences = [source_tokenizer.encode(text).ids for text in source_texts]\n",
        "target_sequences = [target_tokenizer.encode(text).ids for text in target_texts]"
      ],
      "metadata": {
        "id": "XQEp0K5AXQEc"
      },
      "execution_count": null,
      "outputs": []
    },
    {
      "cell_type": "markdown",
      "source": [
        "Se agregan explícitamente los tokens especiales definidos anteriormente. Cada secuencia debe comenzar con 2 (bos) y terminar con 3 (eos)"
      ],
      "metadata": {
        "id": "6SiZckPp83KO"
      }
    },
    {
      "cell_type": "code",
      "source": [
        "def add_special_tokens(sequence, bos_id, eos_id):\n",
        "    \"\"\"\n",
        "    Agrega <bos> (inicio de secuencia) y <eos> (fin de secuencia) a una lista de índices.\n",
        "    \"\"\"\n",
        "    return [bos_id] + sequence + [eos_id]\n",
        "\n",
        "# IDs de los tokens especiales\n",
        "bos_id_src = source_tokenizer.token_to_id(\"<bos>\")\n",
        "eos_id_src = source_tokenizer.token_to_id(\"<eos>\")\n",
        "bos_id_tgt = target_tokenizer.token_to_id(\"<bos>\")\n",
        "eos_id_tgt = target_tokenizer.token_to_id(\"<eos>\")\n",
        "\n",
        "# Aplicar tokens especiales a las secuencias\n",
        "source_sequences = [add_special_tokens(source_tokenizer.encode(text).ids, bos_id_src, eos_id_src) for text in source_texts]\n",
        "target_sequences = [add_special_tokens(target_tokenizer.encode(text).ids, bos_id_tgt, eos_id_tgt) for text in target_texts]\n",
        "\n",
        "# Validar\n",
        "print(\"Secuencia fuente con tokens especiales (primer ejemplo):\", source_sequences[:1])\n",
        "print(\"Secuencia destino con tokens especiales (primer ejemplo):\", target_sequences[:1])"
      ],
      "metadata": {
        "colab": {
          "base_uri": "https://localhost:8080/"
        },
        "id": "r5sicvw5YIYc",
        "outputId": "5294eaba-6b14-4c57-8cd8-68cc393cd840"
      },
      "execution_count": null,
      "outputs": [
        {
          "output_type": "stream",
          "name": "stdout",
          "text": [
            "Secuencia fuente con tokens especiales (primer ejemplo): [[2, 622, 4, 3]]\n",
            "Secuencia destino con tokens especiales (primer ejemplo): [[2, 1354, 4, 3]]\n"
          ]
        }
      ]
    },
    {
      "cell_type": "markdown",
      "source": [
        "Guardar un 20% de las secuencias para validación"
      ],
      "metadata": {
        "id": "KRyawup19xQh"
      }
    },
    {
      "cell_type": "code",
      "source": [
        "src_train_sequences, src_val_sequences, tgt_train_sequences, tgt_val_sequences = train_test_split(\n",
        "    source_sequences, target_sequences, test_size=0.2, random_state=42)"
      ],
      "metadata": {
        "id": "mgppiLpS_Rds"
      },
      "execution_count": null,
      "outputs": []
    },
    {
      "cell_type": "markdown",
      "source": [
        "Definir datasets y dataloaders. Los dataloaders de training y validación corresponden a los iterables que espera el entrenamiento en Pytorch para recorrer el dataset por batches\n",
        "\n",
        "Se agrega una función collate_fn que se encarga de rellenar con el token de padding"
      ],
      "metadata": {
        "id": "6ilZ8GTb-Dtw"
      }
    },
    {
      "cell_type": "code",
      "source": [
        "class TranslationDataset(Dataset):\n",
        "    def __init__(self, source_sequences, target_sequences):\n",
        "        self.source_sequences = source_sequences\n",
        "        self.target_sequences = target_sequences\n",
        "\n",
        "    def __len__(self):\n",
        "        return len(self.source_sequences)\n",
        "\n",
        "    def __getitem__(self, idx):\n",
        "        return self.source_sequences[idx], self.target_sequences[idx]\n",
        "\n",
        "# Definir función de collate para manejar padding\n",
        "def collate_fn(batch):\n",
        "    source_batch, target_batch = zip(*batch)\n",
        "    source_batch = pad_sequence(source_batch, batch_first=True, padding_value=1)\n",
        "    target_batch = pad_sequence(target_batch, batch_first=True, padding_value=1)\n",
        "    return source_batch, target_batch\n",
        "\n",
        "# Convertir los datos en tensores\n",
        "src_train_tensors = [torch.tensor(seq, dtype=torch.long) for seq in src_train_sequences]\n",
        "src_val_tensors = [torch.tensor(seq, dtype=torch.long) for seq in src_val_sequences]\n",
        "tgt_train_tensors = [torch.tensor(seq, dtype=torch.long) for seq in tgt_train_sequences]\n",
        "tgt_val_tensors = [torch.tensor(seq, dtype=torch.long) for seq in tgt_val_sequences]\n",
        "\n",
        "# Crear el dataset\n",
        "train_dataset = TranslationDataset(src_train_tensors, tgt_train_tensors)\n",
        "val_dataset = TranslationDataset(src_val_tensors, tgt_val_tensors)\n",
        "\n",
        "# Crear el DataLoader\n",
        "batch_size = 64\n",
        "train_dataloader = DataLoader(train_dataset, batch_size=batch_size, shuffle=True, collate_fn=lambda batch: collate_fn(batch))\n",
        "val_dataloader = DataLoader(val_dataset, batch_size=batch_size, shuffle=True, collate_fn=lambda batch: collate_fn(batch))"
      ],
      "metadata": {
        "id": "Zo056QX0b2J9"
      },
      "execution_count": null,
      "outputs": []
    },
    {
      "cell_type": "markdown",
      "source": [
        "#### Definición de modelos"
      ],
      "metadata": {
        "id": "aSFGOPu9Gw3T"
      }
    },
    {
      "cell_type": "markdown",
      "source": [
        "Se define un modelo transformer, el cual contiene un mecanismo de Multi-head attention. Pytorch contiene un módulo en torch.nn.Transformer que encapsula toda la complejidad Encoder-Decoder + Multi-head Attention. Se añaden los embedding de ambos idiomas source y target, los cuales codifican las secuencias entrada a representaciones intermedia en dimensión d_model"
      ],
      "metadata": {
        "id": "vyrifc3rBDH1"
      }
    },
    {
      "cell_type": "code",
      "source": [
        "class CustomTransformer(nn.Module):\n",
        "    \"\"\"\n",
        "    CustomTransformer\n",
        "    implementa usando Pytorch un modelo Transformer\n",
        "    \"\"\"\n",
        "    def __init__(self, src_vocab_size, tgt_vocab_size, d_model, num_heads, num_layers, d_ff, max_seq_length, dropout):\n",
        "        super(CustomTransformer, self).__init__()\n",
        "        self.src_vocab_size = src_vocab_size\n",
        "        self.tgt_vocab_size = tgt_vocab_size\n",
        "        self.d_model = d_model\n",
        "\n",
        "        self.encoder_embedding = nn.Embedding(src_vocab_size, d_model, padding_idx = 1) # embedding ingles\n",
        "        self.decoder_embedding = nn.Embedding(tgt_vocab_size, d_model, padding_idx = 1) # embedding español\n",
        "        self.positional_encoding = PositionalEncoding(d_model, max_seq_length)\n",
        "\n",
        "        self.transformer = nn.Transformer( # bloque transformer\n",
        "            d_model=d_model,\n",
        "            nhead=num_heads,\n",
        "            num_encoder_layers=num_layers,\n",
        "            num_decoder_layers=num_layers,\n",
        "            dim_feedforward=d_ff,\n",
        "            dropout=dropout,\n",
        "            batch_first=True\n",
        "        )\n",
        "        self.fc = nn.Linear(d_model, tgt_vocab_size)\n",
        "        self.dropout = nn.Dropout(dropout)\n",
        "\n",
        "    def generate_mask(self, src, tgt):\n",
        "        src_mask = (src != 1).unsqueeze(1).unsqueeze(2) # 1 es padding\n",
        "        tgt_mask = (tgt != 1).unsqueeze(1).unsqueeze(3) # 1 es padding\n",
        "        seq_length = tgt.size(1)\n",
        "        nopeak_mask = torch.triu(torch.ones(seq_length, seq_length), diagonal=1).bool().to(src.device)\n",
        "        tgt_mask = nopeak_mask\n",
        "        return src_mask, tgt_mask\n",
        "\n",
        "    def forward(self, src, tgt, src_key_padding_mask=None, tgt_key_padding_mask=None, tgt_mask=None):\n",
        "        # Embedding + Positional Encoding\n",
        "        src_embedded = self.dropout(self.positional_encoding(self.encoder_embedding(src)))\n",
        "        tgt_embedded = self.dropout(self.positional_encoding(self.decoder_embedding(tgt)))\n",
        "\n",
        "        output = self.transformer(\n",
        "            src_embedded,\n",
        "            tgt_embedded,\n",
        "            src_key_padding_mask=src_key_padding_mask,\n",
        "            tgt_key_padding_mask=tgt_key_padding_mask,\n",
        "            memory_key_padding_mask=src_key_padding_mask,\n",
        "            tgt_mask=tgt_mask\n",
        "        )\n",
        "        return self.fc(output)\n",
        "\n",
        "\n",
        "class PositionalEncoding(nn.Module):\n",
        "    def __init__(self, d_model, max_seq_length):\n",
        "        super(PositionalEncoding, self).__init__()\n",
        "        pe = torch.zeros(max_seq_length, d_model)\n",
        "        position = torch.arange(0, max_seq_length, dtype=torch.float).unsqueeze(1)\n",
        "        div_term = torch.exp(-torch.arange(0, d_model, 2).float() * (math.log(10000.0) / d_model))\n",
        "        pe[:, 0::2] = torch.sin(position * div_term)\n",
        "        pe[:, 1::2] = torch.cos(position * div_term)\n",
        "        self.register_buffer('pe', pe.unsqueeze(0))\n",
        "\n",
        "    def forward(self, x):\n",
        "        return x + self.pe[:, :x.size(1), :]\n"
      ],
      "metadata": {
        "id": "Ka929-4C07nZ"
      },
      "execution_count": null,
      "outputs": []
    },
    {
      "cell_type": "markdown",
      "source": [
        "#### Primera configuración"
      ],
      "metadata": {
        "id": "G0TZWiSRQfyj"
      }
    },
    {
      "cell_type": "markdown",
      "source": [
        "##### Entrenamiento de modelo"
      ],
      "metadata": {
        "id": "r-DlFipMG0QP"
      }
    },
    {
      "cell_type": "markdown",
      "source": [
        "Definición de hiperparámetros"
      ],
      "metadata": {
        "id": "2zfmElP9B1U-"
      }
    },
    {
      "cell_type": "code",
      "source": [
        "# Hiperparámetros\n",
        "src_vocab_size = len(source_vocab)\n",
        "tgt_vocab_size = len(target_vocab)\n",
        "embed_dim = 32\n",
        "num_heads = 4\n",
        "num_layers = 6\n",
        "ff_dim = 128\n",
        "max_seq_length = 100\n",
        "dropout = 0.1\n",
        "\n",
        "# Crear el modelo\n",
        "model = CustomTransformer(\n",
        "src_vocab_size, tgt_vocab_size, embed_dim, num_heads, num_layers, ff_dim, max_seq_length, dropout\n",
        ").to(device)\n"
      ],
      "metadata": {
        "id": "fvNpMxHNce8Q"
      },
      "execution_count": null,
      "outputs": []
    },
    {
      "cell_type": "markdown",
      "source": [
        "Entrenamiento del modelo"
      ],
      "metadata": {
        "id": "AyvY-yAmB42p"
      }
    },
    {
      "cell_type": "markdown",
      "source": [
        "se fija lr de 1e-3 y 30 épocas modificables en caso de encontrar overfitting"
      ],
      "metadata": {
        "id": "dqpCxxt8SzVG"
      }
    },
    {
      "cell_type": "code",
      "source": [
        "criterion = nn.CrossEntropyLoss(ignore_index=1)  # Ignorar <pad>\n",
        "optimizer = torch.optim.Adam(model.parameters(), lr=1e-3)\n",
        "\n",
        "epochs = 30\n",
        "\n",
        "train_losses = []\n",
        "val_losses = []\n",
        "for epoch in range(epochs):\n",
        "\n",
        "    train_epoch_loss = 0\n",
        "    val_epoch_loss = 0\n",
        "\n",
        "    model.train()\n",
        "    for data in train_dataloader:\n",
        "        src_data, tgt_data = data\n",
        "        src_data = src_data.to(device)\n",
        "        tgt_data = tgt_data.to(device)\n",
        "\n",
        "        # Máscaras de padding\n",
        "        src_key_padding_mask = (src_data == 1)\n",
        "        tgt_key_padding_mask = (tgt_data[:, :-1] == 1)\n",
        "\n",
        "        # Máscara causal (seq_length, seq_length)\n",
        "        seq_length = tgt_data[:, :-1].size(1)\n",
        "        tgt_mask = torch.triu(torch.ones(seq_length, seq_length, device=device), diagonal=1).bool()\n",
        "\n",
        "        optimizer.zero_grad()\n",
        "        output = model(\n",
        "            src_data,\n",
        "            tgt_data[:, :-1],\n",
        "            src_key_padding_mask=src_key_padding_mask,\n",
        "            tgt_key_padding_mask=tgt_key_padding_mask,\n",
        "            tgt_mask=tgt_mask\n",
        "        )\n",
        "\n",
        "        loss = criterion(output.contiguous().view(-1, tgt_vocab_size), tgt_data[:, 1:].contiguous().view(-1))\n",
        "        loss.backward()\n",
        "        optimizer.step()\n",
        "\n",
        "        train_epoch_loss += loss.item()/len(train_dataloader)\n",
        "\n",
        "\n",
        "    model.eval()\n",
        "    with torch.no_grad():\n",
        "      for data in val_dataloader:\n",
        "          src_data, tgt_data = data\n",
        "          src_data = src_data.to(device)\n",
        "          tgt_data = tgt_data.to(device)\n",
        "\n",
        "          # Máscaras de padding\n",
        "          src_key_padding_mask = (src_data == 1)\n",
        "          tgt_key_padding_mask = (tgt_data[:, :-1] == 1)\n",
        "\n",
        "          # Máscara causal (seq_length, seq_length)\n",
        "          seq_length = tgt_data[:, :-1].size(1)\n",
        "          tgt_mask = torch.triu(torch.ones(seq_length, seq_length, device=device), diagonal=1).bool()\n",
        "\n",
        "          output = model(\n",
        "              src_data,\n",
        "              tgt_data[:, :-1],\n",
        "              src_key_padding_mask=src_key_padding_mask,\n",
        "              tgt_key_padding_mask=tgt_key_padding_mask,\n",
        "              tgt_mask=tgt_mask\n",
        "          )\n",
        "\n",
        "          loss = criterion(output.contiguous().view(-1, tgt_vocab_size), tgt_data[:, 1:].contiguous().view(-1))\n",
        "\n",
        "          val_epoch_loss += loss.item()/len(val_dataloader)\n",
        "\n",
        "    train_losses.append(train_epoch_loss)\n",
        "    val_losses.append(val_epoch_loss)\n",
        "    print(f\"Epoch {epoch + 1}/{epochs}, Train Loss: {train_epoch_loss:.4f}, Validation Loss: {val_epoch_loss:.4f}\")\n",
        "\n",
        "plt.figure()\n",
        "plt.plot(range(1, epochs+1), train_losses, label = 'Train')\n",
        "plt.plot(range(1, epochs+1), val_losses, label = 'Validation')\n",
        "plt.xlabel(\"Épocas\")\n",
        "plt.ylabel(\"Función de pérdida\")\n",
        "plt.legend()"
      ],
      "metadata": {
        "colab": {
          "base_uri": "https://localhost:8080/",
          "height": 989
        },
        "id": "3sSZnRh0OGaX",
        "outputId": "3c2c34af-ab36-4b47-f9f0-c7e739f9310c"
      },
      "execution_count": null,
      "outputs": [
        {
          "output_type": "stream",
          "name": "stdout",
          "text": [
            "Epoch 1/30, Train Loss: 5.0458, Validation Loss: 4.2695\n",
            "Epoch 2/30, Train Loss: 4.0661, Validation Loss: 3.7203\n",
            "Epoch 3/30, Train Loss: 3.6061, Validation Loss: 3.3256\n",
            "Epoch 4/30, Train Loss: 3.2371, Validation Loss: 2.9888\n",
            "Epoch 5/30, Train Loss: 2.9316, Validation Loss: 2.7231\n",
            "Epoch 6/30, Train Loss: 2.6843, Validation Loss: 2.5362\n",
            "Epoch 7/30, Train Loss: 2.4867, Validation Loss: 2.3915\n",
            "Epoch 8/30, Train Loss: 2.3335, Validation Loss: 2.2997\n",
            "Epoch 9/30, Train Loss: 2.2053, Validation Loss: 2.2239\n",
            "Epoch 10/30, Train Loss: 2.1001, Validation Loss: 2.1573\n",
            "Epoch 11/30, Train Loss: 2.0110, Validation Loss: 2.1101\n",
            "Epoch 12/30, Train Loss: 1.9330, Validation Loss: 2.0714\n",
            "Epoch 13/30, Train Loss: 1.8657, Validation Loss: 2.0312\n",
            "Epoch 14/30, Train Loss: 1.8073, Validation Loss: 2.0103\n",
            "Epoch 15/30, Train Loss: 1.7544, Validation Loss: 1.9983\n",
            "Epoch 16/30, Train Loss: 1.7081, Validation Loss: 1.9696\n",
            "Epoch 17/30, Train Loss: 1.6653, Validation Loss: 1.9502\n",
            "Epoch 18/30, Train Loss: 1.6292, Validation Loss: 1.9280\n",
            "Epoch 19/30, Train Loss: 1.5920, Validation Loss: 1.9145\n",
            "Epoch 20/30, Train Loss: 1.5615, Validation Loss: 1.8955\n",
            "Epoch 21/30, Train Loss: 1.5313, Validation Loss: 1.8808\n",
            "Epoch 22/30, Train Loss: 1.5056, Validation Loss: 1.8882\n",
            "Epoch 23/30, Train Loss: 1.4796, Validation Loss: 1.8681\n",
            "Epoch 24/30, Train Loss: 1.4560, Validation Loss: 1.8622\n",
            "Epoch 25/30, Train Loss: 1.4355, Validation Loss: 1.8554\n",
            "Epoch 26/30, Train Loss: 1.4149, Validation Loss: 1.8325\n",
            "Epoch 27/30, Train Loss: 1.3966, Validation Loss: 1.8424\n",
            "Epoch 28/30, Train Loss: 1.3776, Validation Loss: 1.8246\n",
            "Epoch 29/30, Train Loss: 1.3597, Validation Loss: 1.8215\n",
            "Epoch 30/30, Train Loss: 1.3442, Validation Loss: 1.8089\n"
          ]
        },
        {
          "output_type": "execute_result",
          "data": {
            "text/plain": [
              "<matplotlib.legend.Legend at 0x7e25acd3f460>"
            ]
          },
          "metadata": {},
          "execution_count": 24
        },
        {
          "output_type": "display_data",
          "data": {
            "text/plain": [
              "<Figure size 640x480 with 1 Axes>"
            ],
            "image/png": "[encoded data removed]"
          },
          "metadata": {}
        }
      ]
    },
    {
      "cell_type": "markdown",
      "source": [
        "##### Evaluación y traducción"
      ],
      "metadata": {
        "id": "-koyiD6hG5jx"
      }
    },
    {
      "cell_type": "markdown",
      "source": [
        "Se define al igual que los modelos anteriores la función de traducción"
      ],
      "metadata": {
        "id": "D6ldj8XDB8ei"
      }
    },
    {
      "cell_type": "markdown",
      "source": [
        "IMPORTANTE: parte de la lógica de esta función es inspirada en la implementación disponible en https://github.com/shubhamprasad0/transformer-from-scratch/tree/main. Sin embargo, se le realizaron ajustes significativos para poder adaptarlo a este contexto."
      ],
      "metadata": {
        "id": "vl-gKmNxYpqh"
      }
    },
    {
      "cell_type": "code",
      "source": [
        "def translate(src, max_seq_len=50):\n",
        "    tgt_tokens = [\"\"]\n",
        "    src_vectors = [add_special_tokens(source_tokenizer.encode(src).ids, bos_id_src, eos_id_src)]\n",
        "    src_vectors = torch.tensor(src_vectors).to(device)\n",
        "\n",
        "    src_key_padding_mask = (src_vectors == 1)  # Padding es 1\n",
        "\n",
        "    for i in range(max_seq_len): # generar token por token\n",
        "\n",
        "        temp_chain = \" \".join(tgt_tokens).strip()\n",
        "        tgt_vectors = [add_special_tokens(target_tokenizer.encode(temp_chain).ids, bos_id_tgt, eos_id_tgt)]\n",
        "        tgt_vectors = torch.tensor(tgt_vectors).to(device)\n",
        "\n",
        "        seq_length = tgt_vectors.size(1)\n",
        "        tgt_mask = torch.triu(torch.ones(seq_length, seq_length, device=device), diagonal=1).bool()\n",
        "\n",
        "        tgt_key_padding_mask = (tgt_vectors == 1)\n",
        "\n",
        "        with torch.no_grad():\n",
        "          output = model(\n",
        "              src_vectors,\n",
        "              tgt_vectors,\n",
        "              src_key_padding_mask=src_key_padding_mask,\n",
        "              tgt_key_padding_mask=tgt_key_padding_mask,\n",
        "              tgt_mask=tgt_mask\n",
        "          )\n",
        "\n",
        "          # Obtener el índice del token con la mayor probabilidad\n",
        "          idx = torch.argmax(nn.functional.softmax(output, dim=2)[0, i]).item()\n",
        "\n",
        "        if idx == target_tokenizer.token_to_id(\"<eos>\"):  # Detener si encuentra fin de cadena\n",
        "            break\n",
        "        else:\n",
        "            tgt_tokens.append(reversed_tgt_vocab.get(idx))\n",
        "\n",
        "    return \" \".join(tgt_tokens[1:]).strip()\n"
      ],
      "metadata": {
        "id": "v-75jHFQ46Rm"
      },
      "execution_count": 16,
      "outputs": []
    },
    {
      "cell_type": "markdown",
      "source": [
        "Traducciones"
      ],
      "metadata": {
        "id": "1UwYCbwUCEIc"
      }
    },
    {
      "cell_type": "code",
      "source": [
        "print(translate(\"English is a extremely complex language, don't you think?\"))\n",
        "print(translate(\"the day is warm and sunny\"))\n",
        "print(translate(\"Hello, nice to meet you.\"))\n",
        "print(translate(\"The cat is cute and lazy\"))\n",
        "print(translate(\"How are you?\"))\n",
        "print(translate(\"Did you sleep well?\"))\n",
        "print(translate(\"Attention is all you need\"))\n",
        "print(translate(\"With Transformers we can solve everything\"))\n",
        "print(translate(\"There is no future without the now, and right now we are learning about the future\"))\n",
        "print(translate(\"That's one small step for a man, one giant leap for mankind\"))"
      ],
      "metadata": {
        "colab": {
          "base_uri": "https://localhost:8080/"
        },
        "id": "rmUZgrEKPhyR",
        "outputId": "40615305-7234-4be5-ebcf-87af0b66cf35"
      },
      "execution_count": 17,
      "outputs": [
        {
          "output_type": "stream",
          "name": "stdout",
          "text": [
            "¿ Por qué no has tan tan ?\n",
            "El perro es el mundo .\n",
            "Ellos me gusta , , por favor .\n",
            "¿ Quién está la puerta .\n",
            "¿ Qué te gusta ?\n",
            "¿ Te gusta a la verdad ?\n",
            "¿ Te has !\n",
            "Me gusta lo que te te gusta .\n",
            "Por favor , no hay en la puerta .\n",
            "El libro es un día de la ciudad .\n"
          ]
        }
      ]
    },
    {
      "cell_type": "markdown",
      "source": [
        "Se observan traducciones en general con más sentido gramático en relación al modelo de atención de Bahdanau. Pese a ello, en las últimas secuencias que son más largas comete varios errores introduciendo palabras que no tienen relación alguna"
      ],
      "metadata": {
        "id": "DhFm1cAkSe5p"
      }
    },
    {
      "cell_type": "markdown",
      "source": [
        "#### Segunda configuración"
      ],
      "metadata": {
        "id": "0RVGTfbEQs89"
      }
    },
    {
      "cell_type": "markdown",
      "source": [
        "##### Entrenamiento de modelo"
      ],
      "metadata": {
        "id": "DuVEToWCQyma"
      }
    },
    {
      "cell_type": "markdown",
      "source": [
        "  Se aumenta la dimensión de embedding a 128 y la dimensión interna en encoder-decoder de 1024. También se aumentan las capas en encoder-decoder a 8"
      ],
      "metadata": {
        "id": "2BJOSr8QRLDm"
      }
    },
    {
      "cell_type": "code",
      "source": [
        "# Hiperparámetros\n",
        "src_vocab_size = len(source_vocab)\n",
        "tgt_vocab_size = len(target_vocab)\n",
        "embed_dim = 128\n",
        "num_heads = 4\n",
        "num_layers = 6\n",
        "ff_dim = 1024\n",
        "max_seq_length = 100\n",
        "dropout = 0.2\n",
        "\n",
        "# Crear el modelo\n",
        "model = CustomTransformer(\n",
        "src_vocab_size, tgt_vocab_size, embed_dim, num_heads, num_layers, ff_dim, max_seq_length, dropout\n",
        ").to(device)"
      ],
      "metadata": {
        "id": "tHsNFib4Q_wx"
      },
      "execution_count": 18,
      "outputs": []
    },
    {
      "cell_type": "markdown",
      "source": [
        "se entrena por menos épocas debido que al aumentar los hiperparámetros el costo de entrenamiento se eleva excesivamente y Colab tiene límites de uso de GPU"
      ],
      "metadata": {
        "id": "0-q6Gw4STX8Q"
      }
    },
    {
      "cell_type": "code",
      "source": [
        "criterion = nn.CrossEntropyLoss(ignore_index=1)  # Ignorar <pad>\n",
        "optimizer = torch.optim.Adam(model.parameters(), lr=1e-4, betas=(0.9, 0.98), eps=1e-9)\n",
        "\n",
        "epochs = 3\n",
        "\n",
        "train_losses = []\n",
        "val_losses = []\n",
        "for epoch in range(epochs):\n",
        "\n",
        "    train_epoch_loss = 0\n",
        "    val_epoch_loss = 0\n",
        "\n",
        "    model.train()\n",
        "    for data in train_dataloader:\n",
        "        src_data, tgt_data = data\n",
        "        src_data = src_data.to(device)\n",
        "        tgt_data = tgt_data.to(device)\n",
        "\n",
        "        # Máscaras de padding\n",
        "        src_key_padding_mask = (src_data == 1)\n",
        "        tgt_key_padding_mask = (tgt_data[:, :-1] == 1)\n",
        "\n",
        "        # Máscara causal (seq_length, seq_length)\n",
        "        seq_length = tgt_data[:, :-1].size(1)\n",
        "        tgt_mask = torch.triu(torch.ones(seq_length, seq_length, device=device), diagonal=1).bool()\n",
        "\n",
        "        optimizer.zero_grad()\n",
        "        output = model(\n",
        "            src_data,\n",
        "            tgt_data[:, :-1],\n",
        "            src_key_padding_mask=src_key_padding_mask,\n",
        "            tgt_key_padding_mask=tgt_key_padding_mask,\n",
        "            tgt_mask=tgt_mask\n",
        "        )\n",
        "\n",
        "        loss = criterion(output.contiguous().view(-1, tgt_vocab_size), tgt_data[:, 1:].contiguous().view(-1))\n",
        "        loss.backward()\n",
        "        optimizer.step()\n",
        "\n",
        "        train_epoch_loss += loss.item()/len(train_dataloader)\n",
        "\n",
        "\n",
        "    model.eval()\n",
        "    with torch.no_grad():\n",
        "      for data in val_dataloader:\n",
        "          src_data, tgt_data = data\n",
        "          src_data = src_data.to(device)\n",
        "          tgt_data = tgt_data.to(device)\n",
        "\n",
        "          # Máscaras de padding\n",
        "          src_key_padding_mask = (src_data == 1)\n",
        "          tgt_key_padding_mask = (tgt_data[:, :-1] == 1)\n",
        "\n",
        "          # Máscara causal (seq_length, seq_length)\n",
        "          seq_length = tgt_data[:, :-1].size(1)\n",
        "          tgt_mask = torch.triu(torch.ones(seq_length, seq_length, device=device), diagonal=1).bool()\n",
        "\n",
        "          output = model(\n",
        "              src_data,\n",
        "              tgt_data[:, :-1],\n",
        "              src_key_padding_mask=src_key_padding_mask,\n",
        "              tgt_key_padding_mask=tgt_key_padding_mask,\n",
        "              tgt_mask=tgt_mask\n",
        "          )\n",
        "\n",
        "          loss = criterion(output.contiguous().view(-1, tgt_vocab_size), tgt_data[:, 1:].contiguous().view(-1))\n",
        "\n",
        "          val_epoch_loss += loss.item()/len(val_dataloader)\n",
        "\n",
        "    train_losses.append(train_epoch_loss)\n",
        "    val_losses.append(val_epoch_loss)\n",
        "    print(f\"Epoch {epoch + 1}/{epochs}, Train Loss: {train_epoch_loss:.4f}, Validation Loss: {val_epoch_loss:.4f}\")\n",
        "\n",
        "plt.figure()\n",
        "plt.plot(range(1, epochs+1), train_losses, label = 'Train')\n",
        "plt.plot(range(1, epochs+1), val_losses, label = 'Validation')\n",
        "plt.xlabel(\"Épocas\")\n",
        "plt.ylabel(\"Función de pérdida\")\n",
        "plt.legend()"
      ],
      "metadata": {
        "id": "KW3vZgl_SZFQ",
        "outputId": "fa24ce0c-0aad-482d-9f21-478bcb755bf5",
        "colab": {
          "base_uri": "https://localhost:8080/",
          "height": 524
        }
      },
      "execution_count": 19,
      "outputs": [
        {
          "output_type": "stream",
          "name": "stdout",
          "text": [
            "Epoch 1/3, Train Loss: 5.4572, Validation Loss: 4.5572\n",
            "Epoch 2/3, Train Loss: 4.4241, Validation Loss: 4.1039\n",
            "Epoch 3/3, Train Loss: 4.1061, Validation Loss: 3.8423\n"
          ]
        },
        {
          "output_type": "execute_result",
          "data": {
            "text/plain": [
              "<matplotlib.legend.Legend at 0x78e0d63491e0>"
            ]
          },
          "metadata": {},
          "execution_count": 19
        },
        {
          "output_type": "display_data",
          "data": {
            "text/plain": [
              "<Figure size 640x480 with 1 Axes>"
            ],
            "image/png": "[encoded data removed]"
          },
          "metadata": {}
        }
      ]
    },
    {
      "cell_type": "markdown",
      "source": [
        "##### Evaluación y traducción"
      ],
      "metadata": {
        "id": "NW8PLYw0Q2q5"
      }
    },
    {
      "cell_type": "code",
      "source": [
        "print(translate(\"English is a extremely complex language, don't you think?\"))\n",
        "print(translate(\"the day is warm and sunny\"))\n",
        "print(translate(\"Hello, nice to meet you.\"))\n",
        "print(translate(\"The cat is cute and lazy\"))\n",
        "print(translate(\"How are you?\"))\n",
        "print(translate(\"Did you sleep well?\"))\n",
        "print(translate(\"Attention is all you need\"))\n",
        "print(translate(\"With Transformers we can solve everything\"))\n",
        "print(translate(\"There is no future without the now, and right now we are learning about the future\"))\n",
        "print(translate(\"That's one small step for a man, one giant leap for mankind\"))"
      ],
      "metadata": {
        "id": "-ruKDCAkaC-a",
        "outputId": "d151b3c4-5614-41d5-a41b-3320006219bb",
        "colab": {
          "base_uri": "https://localhost:8080/"
        }
      },
      "execution_count": 20,
      "outputs": [
        {
          "output_type": "stream",
          "name": "stdout",
          "text": [
            "¿ Por qué es un libro , pero no es un libro ?\n",
            "El padre es la puerta y la puerta .\n",
            "Si te gusta la verdad .\n",
            "El padre es un libro .\n",
            "¿ Qué estás ?\n",
            "¿ Te gusta la noche ?\n",
            "¿ Qué es más que te es aquí .\n",
            "La casa no puede hacer nada .\n",
            "No es la casa , pero es la casa , pero no es la noche .\n",
            "Eso es un poco de un poco , pero es un poco de un poco de un poco de un poco de un poco , pero no es muy muy muy muy muy poco .\n"
          ]
        }
      ]
    },
    {
      "cell_type": "markdown",
      "source": [
        "## Análisis de resultados"
      ],
      "metadata": {
        "id": "jQp3asa_FiTH"
      }
    },
    {
      "cell_type": "markdown",
      "source": [
        "El modelo Transformer, implementado con PyTorch, destaca por su rendimiento y calidad de traducción por sobre el modelo con atención simple de Bahdanau. En general, se pudo observar que en las secuencias más largas logra capturar de mejor manera el \"contexto\" de cada palabra, lo cual permite una traducción final con más sentido. Sin embargo, se pudo observar en varias secuencias que aún **le es dificultuoso traducir** en varias secuencias como por ejemplo las siguientes traducciones para las frases \"Attention is all you need\" y\n",
        "\"There is no future without the now, and right now we are learning about the future\"\n",
        "- Asociamos que podemos resolver todo el sonido .\n",
        "- Ahora no hay futuro sin la mejor ahora , ahora estamos en el futuro .\n",
        "\n",
        "Tiene varias palabras sin sentido y existe espacio de mejora con mejores embeddings de palabras, pero tienen sentido gramatical. Sin embargo, si se comparan con el modelo de atención de Bahdanau\n",
        "\n",
        "- la cena , tu necesitas .\n",
        "- ahora , ¿ estamos en el viaje conmigo el viaje conmigo el viaje conmigo el viaje\n",
        "\n",
        "se puede observar que este último no es capaz de capturar la dinámica, el contexto de cada palabra por lo cual la segunda frase no solo introduce palabras incorrectas, sino que no tiene sentido gramatical en español, incluso repite palabras\n",
        "\n",
        "\n",
        "Pese a esto, en estas secuencias se tiene una traducción de mejor calidad que en el modelo con atención simple Bahdanau.\n",
        "\n",
        "La arquitectura basada en la atención multi-cabeza le permite capturar relaciones complejas entre palabras y generar traducciones más precisas y naturales. Además, su capacidad para procesar información en paralelo lo hace significativamente más rápido que los modelos anteriores."
      ],
      "metadata": {
        "id": "RxJaOrdWHHF1"
      }
    },
    {
      "cell_type": "markdown",
      "source": [
        "## Conclusión General\n",
        "\n",
        "Se puede concluir que el modelo Transformer, con su arquitectura basada en la atención multi-cabeza, se destacó como el más avanzado y con mejor rendimiento, generando traducciones de mejor calidad frente a un modelo de atención simple de Bahdanau.\n",
        "\n",
        "Se concluye un cumplimiento de los objetivos, ya que se pudo ver en acción el mecanismo de atención multicabeza y cómo este destaca en generar mejores traducciones inglés-español. Sin embargo, aún existe espacio de mejora para poder generar traducciones altamente robustas y de alta calidad. Con este propósito se propone un entrenamiento con vocabularios más grandes en ambos idiomas y usar embeddings de palabras pre-entrenados, lo cual permite una mejor representación de cada palabra."
      ],
      "metadata": {
        "id": "IfPFLl-fpKn8"
      }
    }
  ]
}